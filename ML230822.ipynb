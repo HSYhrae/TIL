{
  "nbformat": 4,
  "nbformat_minor": 0,
  "metadata": {
    "colab": {
      "provenance": [],
      "toc_visible": true,
      "authorship_tag": "ABX9TyMkvP1p2VntE2X31bm9n28l",
      "include_colab_link": true
    },
    "kernelspec": {
      "name": "python3",
      "display_name": "Python 3"
    },
    "language_info": {
      "name": "python"
    }
  },
  "cells": [
    {
      "cell_type": "markdown",
      "metadata": {
        "id": "view-in-github",
        "colab_type": "text"
      },
      "source": [
        "<a href=\"https://colab.research.google.com/github/HSYhrae/TIL/blob/master/ML230822.ipynb\" target=\"_parent\"><img src=\"https://colab.research.google.com/assets/colab-badge.svg\" alt=\"Open In Colab\"/></a>"
      ]
    },
    {
      "cell_type": "code",
      "execution_count": null,
      "metadata": {
        "colab": {
          "base_uri": "https://localhost:8080/"
        },
        "id": "8f8Z_F8clXPN",
        "outputId": "ebe45922-8adb-459f-8fca-c12a84cee911"
      },
      "outputs": [
        {
          "output_type": "stream",
          "name": "stdout",
          "text": [
            "Collecting lightgbm==3.3.2\n",
            "  Downloading lightgbm-3.3.2-py3-none-manylinux1_x86_64.whl (2.0 MB)\n",
            "\u001b[2K     \u001b[90m━━━━━━━━━━━━━━━━━━━━━━━━━━━━━━━━━━━━━━━━\u001b[0m \u001b[32m2.0/2.0 MB\u001b[0m \u001b[31m8.1 MB/s\u001b[0m eta \u001b[36m0:00:00\u001b[0m\n",
            "\u001b[?25hRequirement already satisfied: wheel in /usr/local/lib/python3.10/dist-packages (from lightgbm==3.3.2) (0.41.1)\n",
            "Requirement already satisfied: numpy in /usr/local/lib/python3.10/dist-packages (from lightgbm==3.3.2) (1.23.5)\n",
            "Requirement already satisfied: scipy in /usr/local/lib/python3.10/dist-packages (from lightgbm==3.3.2) (1.10.1)\n",
            "Requirement already satisfied: scikit-learn!=0.22.0 in /usr/local/lib/python3.10/dist-packages (from lightgbm==3.3.2) (1.2.2)\n",
            "Requirement already satisfied: joblib>=1.1.1 in /usr/local/lib/python3.10/dist-packages (from scikit-learn!=0.22.0->lightgbm==3.3.2) (1.3.2)\n",
            "Requirement already satisfied: threadpoolctl>=2.0.0 in /usr/local/lib/python3.10/dist-packages (from scikit-learn!=0.22.0->lightgbm==3.3.2) (3.2.0)\n",
            "Installing collected packages: lightgbm\n",
            "  Attempting uninstall: lightgbm\n",
            "    Found existing installation: lightgbm 4.0.0\n",
            "    Uninstalling lightgbm-4.0.0:\n",
            "      Successfully uninstalled lightgbm-4.0.0\n",
            "Successfully installed lightgbm-3.3.2\n",
            "Reading package lists... Done\n",
            "Building dependency tree... Done\n",
            "Reading state information... Done\n",
            "The following NEW packages will be installed:\n",
            "  fonts-nanum\n",
            "0 upgraded, 1 newly installed, 0 to remove and 16 not upgraded.\n",
            "Need to get 10.3 MB of archives.\n",
            "After this operation, 34.1 MB of additional disk space will be used.\n",
            "Get:1 http://archive.ubuntu.com/ubuntu jammy/universe amd64 fonts-nanum all 20200506-1 [10.3 MB]\n",
            "Fetched 10.3 MB in 1s (8,536 kB/s)\n",
            "debconf: unable to initialize frontend: Dialog\n",
            "debconf: (No usable dialog-like program is installed, so the dialog based frontend cannot be used. at /usr/share/perl5/Debconf/FrontEnd/Dialog.pm line 78, <> line 1.)\n",
            "debconf: falling back to frontend: Readline\n",
            "debconf: unable to initialize frontend: Readline\n",
            "debconf: (This frontend requires a controlling tty.)\n",
            "debconf: falling back to frontend: Teletype\n",
            "dpkg-preconfigure: unable to re-open stdin: \n",
            "Selecting previously unselected package fonts-nanum.\n",
            "(Reading database ... 120831 files and directories currently installed.)\n",
            "Preparing to unpack .../fonts-nanum_20200506-1_all.deb ...\n",
            "Unpacking fonts-nanum (20200506-1) ...\n",
            "Setting up fonts-nanum (20200506-1) ...\n",
            "Processing triggers for fontconfig (2.13.1-4.2ubuntu5) ...\n",
            "/usr/share/fonts: caching, new cache contents: 0 fonts, 1 dirs\n",
            "/usr/share/fonts/truetype: caching, new cache contents: 0 fonts, 3 dirs\n",
            "/usr/share/fonts/truetype/humor-sans: caching, new cache contents: 1 fonts, 0 dirs\n",
            "/usr/share/fonts/truetype/liberation: caching, new cache contents: 16 fonts, 0 dirs\n",
            "/usr/share/fonts/truetype/nanum: caching, new cache contents: 12 fonts, 0 dirs\n",
            "/usr/local/share/fonts: caching, new cache contents: 0 fonts, 0 dirs\n",
            "/root/.local/share/fonts: skipping, no such directory\n",
            "/root/.fonts: skipping, no such directory\n",
            "/usr/share/fonts/truetype: skipping, looped directory detected\n",
            "/usr/share/fonts/truetype/humor-sans: skipping, looped directory detected\n",
            "/usr/share/fonts/truetype/liberation: skipping, looped directory detected\n",
            "/usr/share/fonts/truetype/nanum: skipping, looped directory detected\n",
            "/var/cache/fontconfig: cleaning cache directory\n",
            "/root/.cache/fontconfig: not cleaning non-existent cache directory\n",
            "/root/.fontconfig: not cleaning non-existent cache directory\n",
            "fc-cache: succeeded\n"
          ]
        }
      ],
      "source": [
        "!pip install lightgbm==3.3.2\n",
        "!sudo apt-get install -y fonts-nanum\n",
        "!sudo fc-cache -fv\n",
        "!rm ~/.cache/matplotlib -rf"
      ]
    },
    {
      "cell_type": "code",
      "source": [
        "import lightgbm\n",
        "lightgbm.__version__"
      ],
      "metadata": {
        "colab": {
          "base_uri": "https://localhost:8080/",
          "height": 35
        },
        "id": "48NGHTBrocLG",
        "outputId": "4b5c8d19-a97c-4e59-e51e-83cd653d2ac3"
      },
      "execution_count": null,
      "outputs": [
        {
          "output_type": "execute_result",
          "data": {
            "text/plain": [
              "'3.3.2'"
            ],
            "application/vnd.google.colaboratory.intrinsic+json": {
              "type": "string"
            }
          },
          "metadata": {},
          "execution_count": 1
        }
      ]
    },
    {
      "cell_type": "code",
      "source": [
        "import matplotlib.pyplot as plt\n",
        "plt.rc(\"font\", family=\"NanumGothic\") # 라이브러리 불러오기와 함께 한번만 실행\n",
        "\n",
        "plt.plot([1, 2, 3])\n",
        "plt.title(\"한글\")\n",
        "plt.show()"
      ],
      "metadata": {
        "colab": {
          "base_uri": "https://localhost:8080/",
          "height": 450
        },
        "id": "pYbrn09ioUPY",
        "outputId": "8d06b0ca-e1b7-4b57-93a2-5360d124565d"
      },
      "execution_count": null,
      "outputs": [
        {
          "output_type": "display_data",
          "data": {
            "text/plain": [
              "<Figure size 640x480 with 1 Axes>"
            ],
            "image/png": "[encoded data removed]"
          },
          "metadata": {}
        }
      ]
    },
    {
      "cell_type": "markdown",
      "source": [
        "### 구글 드라이브 연동"
      ],
      "metadata": {
        "id": "e4BpoSYso_QK"
      }
    },
    {
      "cell_type": "code",
      "source": [
        "from google.colab import drive\n",
        "drive.mount('/content/drive')"
      ],
      "metadata": {
        "colab": {
          "base_uri": "https://localhost:8080/"
        },
        "id": "5-2LJDwGo3M_",
        "outputId": "540c5ef1-df31-41a7-a2fd-54caaecc1db1"
      },
      "execution_count": null,
      "outputs": [
        {
          "output_type": "stream",
          "name": "stdout",
          "text": [
            "Mounted at /content/drive\n"
          ]
        }
      ]
    },
    {
      "cell_type": "markdown",
      "source": [
        "### 데이터셋 및 라이브러리 불러오기\n"
      ],
      "metadata": {
        "id": "VCxqy3zRpuJp"
      }
    },
    {
      "cell_type": "code",
      "source": [
        "import pandas as pd\n",
        "from sklearn.ensemble import VotingClassifier # docs 문서 링크 추가하기!\n",
        "from sklearn.linear_model import LogisticRegression\n",
        "from sklearn.neighbors import KNeighborsClassifier\n",
        "from sklearn.datasets import load_breast_cancer # 데이터 호출\n",
        "from sklearn.model_selection import train_test_split # 훈련/테스트 데이터 분리\n",
        "from sklearn.metrics import accuracy_score # 혼동행렬 정확도\n",
        "\n",
        "cancer = load_breast_cancer()\n",
        "\n",
        "data_df = pd.DataFrame(cancer.data, columns = cancer.feature_names)\n",
        "data_df.head(1)"
      ],
      "metadata": {
        "colab": {
          "base_uri": "https://localhost:8080/",
          "height": 165
        },
        "id": "An0a3kAYptkK",
        "outputId": "353df3fe-217c-4d46-cf0e-222f2f07ffa6"
      },
      "execution_count": null,
      "outputs": [
        {
          "output_type": "execute_result",
          "data": {
            "text/plain": [
              "   mean radius  mean texture  mean perimeter  mean area  mean smoothness  \\\n",
              "0        17.99         10.38           122.8     1001.0           0.1184   \n",
              "\n",
              "   mean compactness  mean concavity  mean concave points  mean symmetry  \\\n",
              "0            0.2776          0.3001               0.1471         0.2419   \n",
              "\n",
              "   mean fractal dimension  ...  worst radius  worst texture  worst perimeter  \\\n",
              "0                 0.07871  ...         25.38          17.33            184.6   \n",
              "\n",
              "   worst area  worst smoothness  worst compactness  worst concavity  \\\n",
              "0      2019.0            0.1622             0.6656           0.7119   \n",
              "\n",
              "   worst concave points  worst symmetry  worst fractal dimension  \n",
              "0                0.2654          0.4601                   0.1189  \n",
              "\n",
              "[1 rows x 30 columns]"
            ],
            "text/html": [
              "\n",
              "  <div id=\"df-89433331-eefc-4c6b-8c44-86675daa06ad\" class=\"colab-df-container\">\n",
              "    <div>\n",
              "<style scoped>\n",
              "    .dataframe tbody tr th:only-of-type {\n",
              "        vertical-align: middle;\n",
              "    }\n",
              "\n",
              "    .dataframe tbody tr th {\n",
              "        vertical-align: top;\n",
              "    }\n",
              "\n",
              "    .dataframe thead th {\n",
              "        text-align: right;\n",
              "    }\n",
              "</style>\n",
              "<table border=\"1\" class=\"dataframe\">\n",
              "  <thead>\n",
              "    <tr style=\"text-align: right;\">\n",
              "      <th></th>\n",
              "      <th>mean radius</th>\n",
              "      <th>mean texture</th>\n",
              "      <th>mean perimeter</th>\n",
              "      <th>mean area</th>\n",
              "      <th>mean smoothness</th>\n",
              "      <th>mean compactness</th>\n",
              "      <th>mean concavity</th>\n",
              "      <th>mean concave points</th>\n",
              "      <th>mean symmetry</th>\n",
              "      <th>mean fractal dimension</th>\n",
              "      <th>...</th>\n",
              "      <th>worst radius</th>\n",
              "      <th>worst texture</th>\n",
              "      <th>worst perimeter</th>\n",
              "      <th>worst area</th>\n",
              "      <th>worst smoothness</th>\n",
              "      <th>worst compactness</th>\n",
              "      <th>worst concavity</th>\n",
              "      <th>worst concave points</th>\n",
              "      <th>worst symmetry</th>\n",
              "      <th>worst fractal dimension</th>\n",
              "    </tr>\n",
              "  </thead>\n",
              "  <tbody>\n",
              "    <tr>\n",
              "      <th>0</th>\n",
              "      <td>17.99</td>\n",
              "      <td>10.38</td>\n",
              "      <td>122.8</td>\n",
              "      <td>1001.0</td>\n",
              "      <td>0.1184</td>\n",
              "      <td>0.2776</td>\n",
              "      <td>0.3001</td>\n",
              "      <td>0.1471</td>\n",
              "      <td>0.2419</td>\n",
              "      <td>0.07871</td>\n",
              "      <td>...</td>\n",
              "      <td>25.38</td>\n",
              "      <td>17.33</td>\n",
              "      <td>184.6</td>\n",
              "      <td>2019.0</td>\n",
              "      <td>0.1622</td>\n",
              "      <td>0.6656</td>\n",
              "      <td>0.7119</td>\n",
              "      <td>0.2654</td>\n",
              "      <td>0.4601</td>\n",
              "      <td>0.1189</td>\n",
              "    </tr>\n",
              "  </tbody>\n",
              "</table>\n",
              "<p>1 rows × 30 columns</p>\n",
              "</div>\n",
              "    <div class=\"colab-df-buttons\">\n",
              "\n",
              "  <div class=\"colab-df-container\">\n",
              "    <button class=\"colab-df-convert\" onclick=\"convertToInteractive('df-89433331-eefc-4c6b-8c44-86675daa06ad')\"\n",
              "            title=\"Convert this dataframe to an interactive table.\"\n",
              "            style=\"display:none;\">\n",
              "\n",
              "  <svg xmlns=\"http://www.w3.org/2000/svg\" height=\"24px\" viewBox=\"0 -960 960 960\">\n",
              "    <path d=\"M120-120v-720h720v720H120Zm60-500h600v-160H180v160Zm220 220h160v-160H400v160Zm0 220h160v-160H400v160ZM180-400h160v-160H180v160Zm440 0h160v-160H620v160ZM180-180h160v-160H180v160Zm440 0h160v-160H620v160Z\"/>\n",
              "  </svg>\n",
              "    </button>\n",
              "\n",
              "  <style>\n",
              "    .colab-df-container {\n",
              "      display:flex;\n",
              "      gap: 12px;\n",
              "    }\n",
              "\n",
              "    .colab-df-convert {\n",
              "      background-color: #E8F0FE;\n",
              "      border: none;\n",
              "      border-radius: 50%;\n",
              "      cursor: pointer;\n",
              "      display: none;\n",
              "      fill: #1967D2;\n",
              "      height: 32px;\n",
              "      padding: 0 0 0 0;\n",
              "      width: 32px;\n",
              "    }\n",
              "\n",
              "    .colab-df-convert:hover {\n",
              "      background-color: #E2EBFA;\n",
              "      box-shadow: 0px 1px 2px rgba(60, 64, 67, 0.3), 0px 1px 3px 1px rgba(60, 64, 67, 0.15);\n",
              "      fill: #174EA6;\n",
              "    }\n",
              "\n",
              "    .colab-df-buttons div {\n",
              "      margin-bottom: 4px;\n",
              "    }\n",
              "\n",
              "    [theme=dark] .colab-df-convert {\n",
              "      background-color: #3B4455;\n",
              "      fill: #D2E3FC;\n",
              "    }\n",
              "\n",
              "    [theme=dark] .colab-df-convert:hover {\n",
              "      background-color: #434B5C;\n",
              "      box-shadow: 0px 1px 3px 1px rgba(0, 0, 0, 0.15);\n",
              "      filter: drop-shadow(0px 1px 2px rgba(0, 0, 0, 0.3));\n",
              "      fill: #FFFFFF;\n",
              "    }\n",
              "  </style>\n",
              "\n",
              "    <script>\n",
              "      const buttonEl =\n",
              "        document.querySelector('#df-89433331-eefc-4c6b-8c44-86675daa06ad button.colab-df-convert');\n",
              "      buttonEl.style.display =\n",
              "        google.colab.kernel.accessAllowed ? 'block' : 'none';\n",
              "\n",
              "      async function convertToInteractive(key) {\n",
              "        const element = document.querySelector('#df-89433331-eefc-4c6b-8c44-86675daa06ad');\n",
              "        const dataTable =\n",
              "          await google.colab.kernel.invokeFunction('convertToInteractive',\n",
              "                                                    [key], {});\n",
              "        if (!dataTable) return;\n",
              "\n",
              "        const docLinkHtml = 'Like what you see? Visit the ' +\n",
              "          '<a target=\"_blank\" href=https://colab.research.google.com/notebooks/data_table.ipynb>data table notebook</a>'\n",
              "          + ' to learn more about interactive tables.';\n",
              "        element.innerHTML = '';\n",
              "        dataTable['output_type'] = 'display_data';\n",
              "        await google.colab.output.renderOutput(dataTable, element);\n",
              "        const docLink = document.createElement('div');\n",
              "        docLink.innerHTML = docLinkHtml;\n",
              "        element.appendChild(docLink);\n",
              "      }\n",
              "    </script>\n",
              "  </div>\n",
              "\n",
              "\n",
              "<div id=\"df-0a6cff59-3334-40ae-8a10-46dd26ee2f80\">\n",
              "  <button class=\"colab-df-quickchart\" onclick=\"quickchart('df-0a6cff59-3334-40ae-8a10-46dd26ee2f80')\"\n",
              "            title=\"Suggest charts.\"\n",
              "            style=\"display:none;\">\n",
              "\n",
              "<svg xmlns=\"http://www.w3.org/2000/svg\" height=\"24px\"viewBox=\"0 0 24 24\"\n",
              "     width=\"24px\">\n",
              "    <g>\n",
              "        <path d=\"M19 3H5c-1.1 0-2 .9-2 2v14c0 1.1.9 2 2 2h14c1.1 0 2-.9 2-2V5c0-1.1-.9-2-2-2zM9 17H7v-7h2v7zm4 0h-2V7h2v10zm4 0h-2v-4h2v4z\"/>\n",
              "    </g>\n",
              "</svg>\n",
              "  </button>\n",
              "\n",
              "<style>\n",
              "  .colab-df-quickchart {\n",
              "    background-color: #E8F0FE;\n",
              "    border: none;\n",
              "    border-radius: 50%;\n",
              "    cursor: pointer;\n",
              "    display: none;\n",
              "    fill: #1967D2;\n",
              "    height: 32px;\n",
              "    padding: 0 0 0 0;\n",
              "    width: 32px;\n",
              "  }\n",
              "\n",
              "  .colab-df-quickchart:hover {\n",
              "    background-color: #E2EBFA;\n",
              "    box-shadow: 0px 1px 2px rgba(60, 64, 67, 0.3), 0px 1px 3px 1px rgba(60, 64, 67, 0.15);\n",
              "    fill: #174EA6;\n",
              "  }\n",
              "\n",
              "  [theme=dark] .colab-df-quickchart {\n",
              "    background-color: #3B4455;\n",
              "    fill: #D2E3FC;\n",
              "  }\n",
              "\n",
              "  [theme=dark] .colab-df-quickchart:hover {\n",
              "    background-color: #434B5C;\n",
              "    box-shadow: 0px 1px 3px 1px rgba(0, 0, 0, 0.15);\n",
              "    filter: drop-shadow(0px 1px 2px rgba(0, 0, 0, 0.3));\n",
              "    fill: #FFFFFF;\n",
              "  }\n",
              "</style>\n",
              "\n",
              "  <script>\n",
              "    async function quickchart(key) {\n",
              "      const charts = await google.colab.kernel.invokeFunction(\n",
              "          'suggestCharts', [key], {});\n",
              "    }\n",
              "    (() => {\n",
              "      let quickchartButtonEl =\n",
              "        document.querySelector('#df-0a6cff59-3334-40ae-8a10-46dd26ee2f80 button');\n",
              "      quickchartButtonEl.style.display =\n",
              "        google.colab.kernel.accessAllowed ? 'block' : 'none';\n",
              "    })();\n",
              "  </script>\n",
              "</div>\n",
              "    </div>\n",
              "  </div>\n"
            ]
          },
          "metadata": {},
          "execution_count": 4
        }
      ]
    },
    {
      "cell_type": "markdown",
      "source": [
        "### 모델 학습"
      ],
      "metadata": {
        "id": "A1vcypb5qrXB"
      }
    },
    {
      "cell_type": "code",
      "source": [
        "lr_clf = LogisticRegression(solver = 'liblinear')\n",
        "knn_clf = KNeighborsClassifier(n_neighbors=8)\n",
        "\n",
        "# 개별 모델을 소프트 보팅 기반의 앙상블 모델로 구현!\n",
        "vo_clf = VotingClassifier(estimators = [('LR', lr_clf), ('KNN', knn_clf)], voting='soft')\n",
        "\n",
        "# 훈련 데이터 테스트 데이터 분리\n",
        "X_train, X_test, y_train, y_test = train_test_split(cancer.data, cancer.target, test_size = 0.2, random_state = 1)\n",
        "\n",
        "# 학습/예측/평가\n",
        "vo_clf.fit(X_train, y_train)\n",
        "pred = vo_clf.predict(X_test)\n",
        "print('Voting 분류기 정확도: {0:.4f}'.format(accuracy_score(y_test , pred)))"
      ],
      "metadata": {
        "colab": {
          "base_uri": "https://localhost:8080/"
        },
        "id": "KU9nDUewqorV",
        "outputId": "a54e338e-8ee7-483e-da3e-14e2d793d86d"
      },
      "execution_count": null,
      "outputs": [
        {
          "output_type": "stream",
          "name": "stdout",
          "text": [
            "Voting 분류기 정확도: 0.9561\n"
          ]
        }
      ]
    },
    {
      "cell_type": "code",
      "source": [
        "# 개별 모델의 학습/예측/평가\n",
        "classifiers = [lr_clf, knn_clf]\n",
        "for classifier in classifiers:\n",
        "    classifier.fit(X_train, y_train)\n",
        "    pred = classifier.predict(X_test)\n",
        "    class_name = classifier.__class__.__name__ # 각 모델의 이름 가져오기 # Docstring 문법\n",
        "    print('{0} 정확도: {1:4f}'.format(class_name, accuracy_score(y_test, pred)))"
      ],
      "metadata": {
        "colab": {
          "base_uri": "https://localhost:8080/"
        },
        "id": "NiBMTOUMrScv",
        "outputId": "b67da1b1-7242-4996-f19a-cac90d9e2e99"
      },
      "execution_count": null,
      "outputs": [
        {
          "output_type": "stream",
          "name": "stdout",
          "text": [
            "LogisticRegression 정확도: 0.956140\n",
            "KNeighborsClassifier 정확도: 0.947368\n"
          ]
        }
      ]
    },
    {
      "cell_type": "markdown",
      "source": [
        "### 데이터 불러오기"
      ],
      "metadata": {
        "id": "7x2Co3Lmy1ir"
      }
    },
    {
      "cell_type": "code",
      "source": [
        "import pandas as pd\n",
        "def get_new_feature_name_df(old_feature_name_df):\n",
        "    feature_dup_df = pd.DataFrame(data = old_feature_name_df.groupby('column_name').cumcount(), columns = ['dup_cnt'])\n",
        "    feature_dup_df = feature_dup_df.reset_index()\n",
        "\n",
        "    new_feature_name_df = pd.merge(old_feature_name_df.reset_index(), feature_dup_df, how = 'outer').sort_values(by='dup_cnt') # outer join릉 걸겠다\n",
        "\n",
        "    # 중복 feature 명에 대해서 원본 feature _1 또는 _2 추가\n",
        "    new_feature_name_df['column_name'] = new_feature_name_df[['column_name', 'dup_cnt']].apply(lambda x: x[0] + '_' + str(x[1]) if x[1] > 0 else x[0], axis = 1)\n",
        "    new_feature_name_df = new_feature_name_df.drop(['index'], axis = 1)\n",
        "    return new_feature_name_df\n"
      ],
      "metadata": {
        "id": "I8Z7motfse0g"
      },
      "execution_count": null,
      "outputs": []
    },
    {
      "cell_type": "code",
      "source": [
        "def get_human_dataset( ):\n",
        "\n",
        "    # 각 데이터 파일들은 공백으로 분리되어 있으므로 read_csv에서 공백 문자를 sep으로 할당.\n",
        "    DATA_PATH = '/content/drive/MyDrive/멀티캠퍼스 국비지원 교육/정지훈 강사님 수업/머신러닝&딥러닝/data'\n",
        "    feature_name_df = pd.read_csv(DATA_PATH + '/human_activity/features.txt',sep='\\s+',\n",
        "                        header=None,names=['column_index','column_name'])\n",
        "\n",
        "    # 중복된 피처명을 수정하는 get_new_feature_name_df()를 이용, 신규 피처명 DataFrame생성.\n",
        "    new_feature_name_df = get_new_feature_name_df(feature_name_df)\n",
        "\n",
        "    # DataFrame에 피처명을 컬럼으로 부여하기 위해 리스트 객체로 다시 변환\n",
        "    feature_name = new_feature_name_df.iloc[:, 1].values.tolist()\n",
        "\n",
        "    # 학습 피처 데이터 셋과 테스트 피처 데이터을 DataFrame으로 로딩. 컬럼명은 feature_name 적용\n",
        "    X_train = pd.read_csv(DATA_PATH + '/human_activity/train/X_train.txt',sep='\\s+', names=feature_name )\n",
        "    X_test = pd.read_csv(DATA_PATH + '/human_activity/test/X_test.txt',sep='\\s+', names=feature_name)\n",
        "\n",
        "    # 학습 레이블과 테스트 레이블 데이터을 DataFrame으로 로딩하고 컬럼명은 action으로 부여\n",
        "    y_train = pd.read_csv(DATA_PATH + '/human_activity/train/y_train.txt',sep='\\s+',header=None,names=['action'])\n",
        "    y_test = pd.read_csv(DATA_PATH + '/human_activity/test/y_test.txt',sep='\\s+',header=None,names=['action'])\n",
        "\n",
        "    # 로드된 학습/테스트용 DataFrame을 모두 반환\n",
        "    return X_train, X_test, y_train, y_test\n",
        "\n",
        "\n"
      ],
      "metadata": {
        "id": "86JYGO6jy58N"
      },
      "execution_count": null,
      "outputs": []
    },
    {
      "cell_type": "code",
      "source": [
        "X_train, X_test, y_train, y_test = get_human_dataset()"
      ],
      "metadata": {
        "id": "dXy-Z39nzCka"
      },
      "execution_count": null,
      "outputs": []
    },
    {
      "cell_type": "code",
      "source": [
        "from sklearn.ensemble import RandomForestClassifier\n",
        "from sklearn.metrics import accuracy_score\n",
        "import pandas as pd\n",
        "import warnings\n",
        "warnings.filterwarnings('ignore')\n",
        "\n",
        "X_train, X_test, y_train, y_test = get_human_dataset()\n",
        "\n",
        "# 랜덤 포레스트 학습\n",
        "rf_clf = RandomForestClassifier(n_estimators = 100, random_state = 0, max_depth = 8) # https://scikit-learn.org/stable/modules/generated/sklearn.ensemble.RandomForestClassifier.html\n",
        "rf_clf.fit(X_train, y_train)\n",
        "pred = rf_clf.predict(X_test)\n",
        "accuracy = accuracy_score(y_test, pred)\n",
        "print(accuracy)"
      ],
      "metadata": {
        "colab": {
          "base_uri": "https://localhost:8080/"
        },
        "id": "j6IE8vL2zDYI",
        "outputId": "2ce91508-85d9-4620-fe07-f9d535422b33"
      },
      "execution_count": null,
      "outputs": [
        {
          "output_type": "stream",
          "name": "stdout",
          "text": [
            "0.9195792331184255\n"
          ]
        }
      ]
    },
    {
      "cell_type": "markdown",
      "source": [
        "### 하이퍼 파라미터 튜닝"
      ],
      "metadata": {
        "id": "BUClUNVa2JcV"
      }
    },
    {
      "cell_type": "code",
      "source": [
        "from sklearn.model_selection import GridSearchCV\n",
        "params = {\n",
        "    'n_estimators': [50, 100, 150],\n",
        "    'max_depth': [8, 16, 24],\n",
        "    'min_samples_leaf': [1, 6, 12],\n",
        "    'min_samples_split': [2, 8, 16]\n",
        "}\n",
        "\n",
        "# RandomForestClassifier 객체 생성 후 GridSearchCV\n",
        "rf_clf = RandomForestClassifier(random_state = 0, n_jobs = -1) # 병렬처리\n",
        "grid_cv = GridSearchCV(rf_clf, param_grid = params, cv=2,n_jobs = -1) # 병렬처리\n",
        "grid_cv.fit(X_train, y_train)\n",
        "\n",
        "print('최적 하이퍼 파라미터:\\n', grid_cv.best_params_)\n",
        "print('최고 예측 정확도: {0:.4f}'.format(grid_cv.best_score_))"
      ],
      "metadata": {
        "colab": {
          "base_uri": "https://localhost:8080/"
        },
        "id": "2CpG_tQpzGPT",
        "outputId": "0b092ee7-93a8-43c8-e270-78f63f3b217f"
      },
      "execution_count": null,
      "outputs": [
        {
          "output_type": "stream",
          "name": "stdout",
          "text": [
            "최적 하이퍼 파라미터:\n",
            " {'max_depth': 16, 'min_samples_leaf': 6, 'min_samples_split': 2, 'n_estimators': 150}\n",
            "최고 예측 정확도: 0.9170\n"
          ]
        }
      ]
    },
    {
      "cell_type": "code",
      "source": [
        "print('최적 하이퍼 파라미터:\\n', grid_cv.best_params_)\n",
        "print('최고 예측 정확도: {0:.4f}'.format(grid_cv.best_score_))"
      ],
      "metadata": {
        "colab": {
          "base_uri": "https://localhost:8080/"
        },
        "id": "0CHr4ClL3IRq",
        "outputId": "e337d62e-841f-4aab-992b-a4a1b917a3d9"
      },
      "execution_count": null,
      "outputs": [
        {
          "output_type": "stream",
          "name": "stdout",
          "text": [
            "최적 하이퍼 파라미터:\n",
            " {'max_depth': 16, 'min_samples_leaf': 6, 'min_samples_split': 2, 'n_estimators': 150}\n",
            "최고 예측 정확도: 0.9170\n"
          ]
        }
      ]
    },
    {
      "cell_type": "code",
      "source": [
        "rf_clf1 = RandomForestClassifier(n_estimators = 150, min_samples_leaf=6~)"
      ],
      "metadata": {
        "colab": {
          "base_uri": "https://localhost:8080/",
          "height": 255
        },
        "id": "hrpV6pRo6-WZ",
        "outputId": "ae5a314e-7698-4d99-f34f-41c6201e0703"
      },
      "execution_count": null,
      "outputs": [
        {
          "output_type": "error",
          "ename": "SyntaxError",
          "evalue": "ignored",
          "traceback": [
            "\u001b[0;31m---------------------------------------------------------------------------\u001b[0m",
            "\u001b[0;31mSyntaxError\u001b[0m                               Traceback (most recent call last)",
            "\u001b[0;32m/usr/local/lib/python3.10/dist-packages/IPython/core/compilerop.py\u001b[0m in \u001b[0;36mast_parse\u001b[0;34m(self, source, filename, symbol)\u001b[0m\n\u001b[1;32m     99\u001b[0m         \u001b[0mArguments\u001b[0m \u001b[0mare\u001b[0m \u001b[0mexactly\u001b[0m \u001b[0mthe\u001b[0m \u001b[0msame\u001b[0m \u001b[0;32mas\u001b[0m \u001b[0mast\u001b[0m\u001b[0;34m.\u001b[0m\u001b[0mparse\u001b[0m \u001b[0;34m(\u001b[0m\u001b[0;32min\u001b[0m \u001b[0mthe\u001b[0m \u001b[0mstandard\u001b[0m \u001b[0mlibrary\u001b[0m\u001b[0;34m)\u001b[0m\u001b[0;34m,\u001b[0m\u001b[0;34m\u001b[0m\u001b[0;34m\u001b[0m\u001b[0m\n\u001b[1;32m    100\u001b[0m         and are passed to the built-in compile function.\"\"\"\n\u001b[0;32m--> 101\u001b[0;31m         \u001b[0;32mreturn\u001b[0m \u001b[0mcompile\u001b[0m\u001b[0;34m(\u001b[0m\u001b[0msource\u001b[0m\u001b[0;34m,\u001b[0m \u001b[0mfilename\u001b[0m\u001b[0;34m,\u001b[0m \u001b[0msymbol\u001b[0m\u001b[0;34m,\u001b[0m \u001b[0mself\u001b[0m\u001b[0;34m.\u001b[0m\u001b[0mflags\u001b[0m \u001b[0;34m|\u001b[0m \u001b[0mPyCF_ONLY_AST\u001b[0m\u001b[0;34m,\u001b[0m \u001b[0;36m1\u001b[0m\u001b[0;34m)\u001b[0m\u001b[0;34m\u001b[0m\u001b[0;34m\u001b[0m\u001b[0m\n\u001b[0m\u001b[1;32m    102\u001b[0m \u001b[0;34m\u001b[0m\u001b[0m\n\u001b[1;32m    103\u001b[0m     \u001b[0;32mdef\u001b[0m \u001b[0mreset_compiler_flags\u001b[0m\u001b[0;34m(\u001b[0m\u001b[0mself\u001b[0m\u001b[0;34m)\u001b[0m\u001b[0;34m:\u001b[0m\u001b[0;34m\u001b[0m\u001b[0;34m\u001b[0m\u001b[0m\n",
            "\u001b[0;31mSyntaxError\u001b[0m: invalid syntax (<ipython-input-30-dc1eb2aebbcc>, line 1)"
          ]
        }
      ]
    },
    {
      "cell_type": "markdown",
      "source": [
        "## GBM\n",
        "- 가장 큰 단점은 속도가 매우 느림\n",
        "    + 보완: XGBoost, LightGBM"
      ],
      "metadata": {
        "id": "fpQY3xRr-6ER"
      }
    },
    {
      "cell_type": "code",
      "source": [
        "from sklearn.ensemble import GradientBoostingClassifier\n",
        "import time\n",
        "import warnings\n",
        "\n",
        "warnings.filterwarnings('ignore')\n",
        "X_train, X_test, y_train, y_test = get_human_dataset()"
      ],
      "metadata": {
        "id": "2kvK5Lxq_C-5"
      },
      "execution_count": null,
      "outputs": []
    },
    {
      "cell_type": "markdown",
      "source": [
        "### 수행시간 측정"
      ],
      "metadata": {
        "id": "03mA0AkZ_gks"
      }
    },
    {
      "cell_type": "code",
      "source": [
        "start_time = time.time()\n",
        "gb_clf = GradientBoostingClassifier(random_state=0)\n",
        "gb_clf.fit(X_train, y_train)\n",
        "gb_pred = gb_clf.predict(X_test)\n",
        "gb_accuracy = accuracy_score(y_test, gb_pred)\n",
        "print('수행시간: {0:.1f}초'.format(time.time() - start_time))"
      ],
      "metadata": {
        "colab": {
          "base_uri": "https://localhost:8080/"
        },
        "id": "lLUBlOjH_eG4",
        "outputId": "902aa6a5-0589-40ed-f0a1-af1d4ff54dcf"
      },
      "execution_count": null,
      "outputs": [
        {
          "output_type": "stream",
          "name": "stdout",
          "text": [
            "수행시간: 996.6초\n"
          ]
        }
      ]
    },
    {
      "cell_type": "markdown",
      "source": [
        "## XGBoost\n",
        "- 참조: https://xgboost.readthedocs.io/en/stable/\n",
        "- 기초가이드: https://xgboost.readthedocs.io/en/stable/tutorials/param_tuning.html"
      ],
      "metadata": {
        "id": "y8t7yYV3akia"
      }
    },
    {
      "cell_type": "code",
      "source": [
        "import xgboost\n",
        "print(xgboost.__version__)"
      ],
      "metadata": {
        "colab": {
          "base_uri": "https://localhost:8080/"
        },
        "id": "T5xHSxPV_27f",
        "outputId": "4bf3db7c-9eb8-4aac-af1f-cdb367343860"
      },
      "execution_count": null,
      "outputs": [
        {
          "output_type": "stream",
          "name": "stdout",
          "text": [
            "1.7.6\n"
          ]
        }
      ]
    },
    {
      "cell_type": "markdown",
      "source": [
        "- 교재 p228\n",
        "    + 파이썬 래퍼 XGBoost 하이퍼 파라미터\n",
        "        - xgboost.DXatrix() 데이터를 변환해서 사용한다!"
      ],
      "metadata": {
        "id": "NM-fZoxEbDzm"
      }
    },
    {
      "cell_type": "markdown",
      "source": [
        "### Step 0. 라이브러리 불러오기 & 환경설정"
      ],
      "metadata": {
        "id": "YDEEGIpWcluM"
      }
    },
    {
      "cell_type": "code",
      "source": [
        "import xgboost as xgb\n",
        "from xgboost import plot_importance\n",
        "import pandas as pd\n",
        "import numpy as np\n",
        "from sklearn.datasets import load_breast_cancer\n",
        "from sklearn.model_selection import train_test_split\n",
        "import warnings\n",
        "warnings.filterwarnings('ignore')"
      ],
      "metadata": {
        "id": "_mcxduqMbDBC"
      },
      "execution_count": null,
      "outputs": []
    },
    {
      "cell_type": "markdown",
      "source": [
        "### Step 1. 데이터셋 불러오기"
      ],
      "metadata": {
        "id": "jz5GB32IcfId"
      }
    },
    {
      "cell_type": "code",
      "source": [
        "dataset = load_breast_cancer()\n",
        "X_features = dataset.data # 독립변수\n",
        "y_label = dataset.target # 종속변수\n",
        "\n",
        "# 지도학습, 종속변수 존재 (분류) 초급 / 입문자!\n",
        "# 비지도학습, 종속변수 존재하지 않음 (분류: 클러스터) 중급이상!\n",
        "\n",
        "cancer_df = pd.DataFrame(data = X_features, columns = dataset.feature_names) # 독립변수\n",
        "cancer_df['target'] = y_label # 종속변수\n",
        "cancer_df.head(3)"
      ],
      "metadata": {
        "colab": {
          "base_uri": "https://localhost:8080/",
          "height": 227
        },
        "id": "v0X7XOVnbz0N",
        "outputId": "1bf3b557-7784-450d-86bc-945c09043a3f"
      },
      "execution_count": null,
      "outputs": [
        {
          "output_type": "execute_result",
          "data": {
            "text/plain": [
              "   mean radius  mean texture  mean perimeter  mean area  mean smoothness  \\\n",
              "0        17.99         10.38           122.8     1001.0          0.11840   \n",
              "1        20.57         17.77           132.9     1326.0          0.08474   \n",
              "2        19.69         21.25           130.0     1203.0          0.10960   \n",
              "\n",
              "   mean compactness  mean concavity  mean concave points  mean symmetry  \\\n",
              "0           0.27760          0.3001              0.14710         0.2419   \n",
              "1           0.07864          0.0869              0.07017         0.1812   \n",
              "2           0.15990          0.1974              0.12790         0.2069   \n",
              "\n",
              "   mean fractal dimension  ...  worst texture  worst perimeter  worst area  \\\n",
              "0                 0.07871  ...          17.33            184.6      2019.0   \n",
              "1                 0.05667  ...          23.41            158.8      1956.0   \n",
              "2                 0.05999  ...          25.53            152.5      1709.0   \n",
              "\n",
              "   worst smoothness  worst compactness  worst concavity  worst concave points  \\\n",
              "0            0.1622             0.6656           0.7119                0.2654   \n",
              "1            0.1238             0.1866           0.2416                0.1860   \n",
              "2            0.1444             0.4245           0.4504                0.2430   \n",
              "\n",
              "   worst symmetry  worst fractal dimension  target  \n",
              "0          0.4601                  0.11890       0  \n",
              "1          0.2750                  0.08902       0  \n",
              "2          0.3613                  0.08758       0  \n",
              "\n",
              "[3 rows x 31 columns]"
            ],
            "text/html": [
              "\n",
              "  <div id=\"df-e31bb709-a24f-4814-b75b-15649e8ed307\" class=\"colab-df-container\">\n",
              "    <div>\n",
              "<style scoped>\n",
              "    .dataframe tbody tr th:only-of-type {\n",
              "        vertical-align: middle;\n",
              "    }\n",
              "\n",
              "    .dataframe tbody tr th {\n",
              "        vertical-align: top;\n",
              "    }\n",
              "\n",
              "    .dataframe thead th {\n",
              "        text-align: right;\n",
              "    }\n",
              "</style>\n",
              "<table border=\"1\" class=\"dataframe\">\n",
              "  <thead>\n",
              "    <tr style=\"text-align: right;\">\n",
              "      <th></th>\n",
              "      <th>mean radius</th>\n",
              "      <th>mean texture</th>\n",
              "      <th>mean perimeter</th>\n",
              "      <th>mean area</th>\n",
              "      <th>mean smoothness</th>\n",
              "      <th>mean compactness</th>\n",
              "      <th>mean concavity</th>\n",
              "      <th>mean concave points</th>\n",
              "      <th>mean symmetry</th>\n",
              "      <th>mean fractal dimension</th>\n",
              "      <th>...</th>\n",
              "      <th>worst texture</th>\n",
              "      <th>worst perimeter</th>\n",
              "      <th>worst area</th>\n",
              "      <th>worst smoothness</th>\n",
              "      <th>worst compactness</th>\n",
              "      <th>worst concavity</th>\n",
              "      <th>worst concave points</th>\n",
              "      <th>worst symmetry</th>\n",
              "      <th>worst fractal dimension</th>\n",
              "      <th>target</th>\n",
              "    </tr>\n",
              "  </thead>\n",
              "  <tbody>\n",
              "    <tr>\n",
              "      <th>0</th>\n",
              "      <td>17.99</td>\n",
              "      <td>10.38</td>\n",
              "      <td>122.8</td>\n",
              "      <td>1001.0</td>\n",
              "      <td>0.11840</td>\n",
              "      <td>0.27760</td>\n",
              "      <td>0.3001</td>\n",
              "      <td>0.14710</td>\n",
              "      <td>0.2419</td>\n",
              "      <td>0.07871</td>\n",
              "      <td>...</td>\n",
              "      <td>17.33</td>\n",
              "      <td>184.6</td>\n",
              "      <td>2019.0</td>\n",
              "      <td>0.1622</td>\n",
              "      <td>0.6656</td>\n",
              "      <td>0.7119</td>\n",
              "      <td>0.2654</td>\n",
              "      <td>0.4601</td>\n",
              "      <td>0.11890</td>\n",
              "      <td>0</td>\n",
              "    </tr>\n",
              "    <tr>\n",
              "      <th>1</th>\n",
              "      <td>20.57</td>\n",
              "      <td>17.77</td>\n",
              "      <td>132.9</td>\n",
              "      <td>1326.0</td>\n",
              "      <td>0.08474</td>\n",
              "      <td>0.07864</td>\n",
              "      <td>0.0869</td>\n",
              "      <td>0.07017</td>\n",
              "      <td>0.1812</td>\n",
              "      <td>0.05667</td>\n",
              "      <td>...</td>\n",
              "      <td>23.41</td>\n",
              "      <td>158.8</td>\n",
              "      <td>1956.0</td>\n",
              "      <td>0.1238</td>\n",
              "      <td>0.1866</td>\n",
              "      <td>0.2416</td>\n",
              "      <td>0.1860</td>\n",
              "      <td>0.2750</td>\n",
              "      <td>0.08902</td>\n",
              "      <td>0</td>\n",
              "    </tr>\n",
              "    <tr>\n",
              "      <th>2</th>\n",
              "      <td>19.69</td>\n",
              "      <td>21.25</td>\n",
              "      <td>130.0</td>\n",
              "      <td>1203.0</td>\n",
              "      <td>0.10960</td>\n",
              "      <td>0.15990</td>\n",
              "      <td>0.1974</td>\n",
              "      <td>0.12790</td>\n",
              "      <td>0.2069</td>\n",
              "      <td>0.05999</td>\n",
              "      <td>...</td>\n",
              "      <td>25.53</td>\n",
              "      <td>152.5</td>\n",
              "      <td>1709.0</td>\n",
              "      <td>0.1444</td>\n",
              "      <td>0.4245</td>\n",
              "      <td>0.4504</td>\n",
              "      <td>0.2430</td>\n",
              "      <td>0.3613</td>\n",
              "      <td>0.08758</td>\n",
              "      <td>0</td>\n",
              "    </tr>\n",
              "  </tbody>\n",
              "</table>\n",
              "<p>3 rows × 31 columns</p>\n",
              "</div>\n",
              "    <div class=\"colab-df-buttons\">\n",
              "\n",
              "  <div class=\"colab-df-container\">\n",
              "    <button class=\"colab-df-convert\" onclick=\"convertToInteractive('df-e31bb709-a24f-4814-b75b-15649e8ed307')\"\n",
              "            title=\"Convert this dataframe to an interactive table.\"\n",
              "            style=\"display:none;\">\n",
              "\n",
              "  <svg xmlns=\"http://www.w3.org/2000/svg\" height=\"24px\" viewBox=\"0 -960 960 960\">\n",
              "    <path d=\"M120-120v-720h720v720H120Zm60-500h600v-160H180v160Zm220 220h160v-160H400v160Zm0 220h160v-160H400v160ZM180-400h160v-160H180v160Zm440 0h160v-160H620v160ZM180-180h160v-160H180v160Zm440 0h160v-160H620v160Z\"/>\n",
              "  </svg>\n",
              "    </button>\n",
              "\n",
              "  <style>\n",
              "    .colab-df-container {\n",
              "      display:flex;\n",
              "      gap: 12px;\n",
              "    }\n",
              "\n",
              "    .colab-df-convert {\n",
              "      background-color: #E8F0FE;\n",
              "      border: none;\n",
              "      border-radius: 50%;\n",
              "      cursor: pointer;\n",
              "      display: none;\n",
              "      fill: #1967D2;\n",
              "      height: 32px;\n",
              "      padding: 0 0 0 0;\n",
              "      width: 32px;\n",
              "    }\n",
              "\n",
              "    .colab-df-convert:hover {\n",
              "      background-color: #E2EBFA;\n",
              "      box-shadow: 0px 1px 2px rgba(60, 64, 67, 0.3), 0px 1px 3px 1px rgba(60, 64, 67, 0.15);\n",
              "      fill: #174EA6;\n",
              "    }\n",
              "\n",
              "    .colab-df-buttons div {\n",
              "      margin-bottom: 4px;\n",
              "    }\n",
              "\n",
              "    [theme=dark] .colab-df-convert {\n",
              "      background-color: #3B4455;\n",
              "      fill: #D2E3FC;\n",
              "    }\n",
              "\n",
              "    [theme=dark] .colab-df-convert:hover {\n",
              "      background-color: #434B5C;\n",
              "      box-shadow: 0px 1px 3px 1px rgba(0, 0, 0, 0.15);\n",
              "      filter: drop-shadow(0px 1px 2px rgba(0, 0, 0, 0.3));\n",
              "      fill: #FFFFFF;\n",
              "    }\n",
              "  </style>\n",
              "\n",
              "    <script>\n",
              "      const buttonEl =\n",
              "        document.querySelector('#df-e31bb709-a24f-4814-b75b-15649e8ed307 button.colab-df-convert');\n",
              "      buttonEl.style.display =\n",
              "        google.colab.kernel.accessAllowed ? 'block' : 'none';\n",
              "\n",
              "      async function convertToInteractive(key) {\n",
              "        const element = document.querySelector('#df-e31bb709-a24f-4814-b75b-15649e8ed307');\n",
              "        const dataTable =\n",
              "          await google.colab.kernel.invokeFunction('convertToInteractive',\n",
              "                                                    [key], {});\n",
              "        if (!dataTable) return;\n",
              "\n",
              "        const docLinkHtml = 'Like what you see? Visit the ' +\n",
              "          '<a target=\"_blank\" href=https://colab.research.google.com/notebooks/data_table.ipynb>data table notebook</a>'\n",
              "          + ' to learn more about interactive tables.';\n",
              "        element.innerHTML = '';\n",
              "        dataTable['output_type'] = 'display_data';\n",
              "        await google.colab.output.renderOutput(dataTable, element);\n",
              "        const docLink = document.createElement('div');\n",
              "        docLink.innerHTML = docLinkHtml;\n",
              "        element.appendChild(docLink);\n",
              "      }\n",
              "    </script>\n",
              "  </div>\n",
              "\n",
              "\n",
              "<div id=\"df-cd2cae7b-773c-4186-9229-8f067916f294\">\n",
              "  <button class=\"colab-df-quickchart\" onclick=\"quickchart('df-cd2cae7b-773c-4186-9229-8f067916f294')\"\n",
              "            title=\"Suggest charts.\"\n",
              "            style=\"display:none;\">\n",
              "\n",
              "<svg xmlns=\"http://www.w3.org/2000/svg\" height=\"24px\"viewBox=\"0 0 24 24\"\n",
              "     width=\"24px\">\n",
              "    <g>\n",
              "        <path d=\"M19 3H5c-1.1 0-2 .9-2 2v14c0 1.1.9 2 2 2h14c1.1 0 2-.9 2-2V5c0-1.1-.9-2-2-2zM9 17H7v-7h2v7zm4 0h-2V7h2v10zm4 0h-2v-4h2v4z\"/>\n",
              "    </g>\n",
              "</svg>\n",
              "  </button>\n",
              "\n",
              "<style>\n",
              "  .colab-df-quickchart {\n",
              "    background-color: #E8F0FE;\n",
              "    border: none;\n",
              "    border-radius: 50%;\n",
              "    cursor: pointer;\n",
              "    display: none;\n",
              "    fill: #1967D2;\n",
              "    height: 32px;\n",
              "    padding: 0 0 0 0;\n",
              "    width: 32px;\n",
              "  }\n",
              "\n",
              "  .colab-df-quickchart:hover {\n",
              "    background-color: #E2EBFA;\n",
              "    box-shadow: 0px 1px 2px rgba(60, 64, 67, 0.3), 0px 1px 3px 1px rgba(60, 64, 67, 0.15);\n",
              "    fill: #174EA6;\n",
              "  }\n",
              "\n",
              "  [theme=dark] .colab-df-quickchart {\n",
              "    background-color: #3B4455;\n",
              "    fill: #D2E3FC;\n",
              "  }\n",
              "\n",
              "  [theme=dark] .colab-df-quickchart:hover {\n",
              "    background-color: #434B5C;\n",
              "    box-shadow: 0px 1px 3px 1px rgba(0, 0, 0, 0.15);\n",
              "    filter: drop-shadow(0px 1px 2px rgba(0, 0, 0, 0.3));\n",
              "    fill: #FFFFFF;\n",
              "  }\n",
              "</style>\n",
              "\n",
              "  <script>\n",
              "    async function quickchart(key) {\n",
              "      const charts = await google.colab.kernel.invokeFunction(\n",
              "          'suggestCharts', [key], {});\n",
              "    }\n",
              "    (() => {\n",
              "      let quickchartButtonEl =\n",
              "        document.querySelector('#df-cd2cae7b-773c-4186-9229-8f067916f294 button');\n",
              "      quickchartButtonEl.style.display =\n",
              "        google.colab.kernel.accessAllowed ? 'block' : 'none';\n",
              "    })();\n",
              "  </script>\n",
              "</div>\n",
              "    </div>\n",
              "  </div>\n"
            ]
          },
          "metadata": {},
          "execution_count": 42
        }
      ]
    },
    {
      "cell_type": "code",
      "source": [
        "cancer_df.info()"
      ],
      "metadata": {
        "colab": {
          "base_uri": "https://localhost:8080/"
        },
        "id": "FFKkl1PvevCk",
        "outputId": "7ab8d867-9409-4e55-9ac9-ecb19f1f12ae"
      },
      "execution_count": null,
      "outputs": [
        {
          "output_type": "stream",
          "name": "stdout",
          "text": [
            "<class 'pandas.core.frame.DataFrame'>\n",
            "RangeIndex: 569 entries, 0 to 568\n",
            "Data columns (total 31 columns):\n",
            " #   Column                   Non-Null Count  Dtype  \n",
            "---  ------                   --------------  -----  \n",
            " 0   mean radius              569 non-null    float64\n",
            " 1   mean texture             569 non-null    float64\n",
            " 2   mean perimeter           569 non-null    float64\n",
            " 3   mean area                569 non-null    float64\n",
            " 4   mean smoothness          569 non-null    float64\n",
            " 5   mean compactness         569 non-null    float64\n",
            " 6   mean concavity           569 non-null    float64\n",
            " 7   mean concave points      569 non-null    float64\n",
            " 8   mean symmetry            569 non-null    float64\n",
            " 9   mean fractal dimension   569 non-null    float64\n",
            " 10  radius error             569 non-null    float64\n",
            " 11  texture error            569 non-null    float64\n",
            " 12  perimeter error          569 non-null    float64\n",
            " 13  area error               569 non-null    float64\n",
            " 14  smoothness error         569 non-null    float64\n",
            " 15  compactness error        569 non-null    float64\n",
            " 16  concavity error          569 non-null    float64\n",
            " 17  concave points error     569 non-null    float64\n",
            " 18  symmetry error           569 non-null    float64\n",
            " 19  fractal dimension error  569 non-null    float64\n",
            " 20  worst radius             569 non-null    float64\n",
            " 21  worst texture            569 non-null    float64\n",
            " 22  worst perimeter          569 non-null    float64\n",
            " 23  worst area               569 non-null    float64\n",
            " 24  worst smoothness         569 non-null    float64\n",
            " 25  worst compactness        569 non-null    float64\n",
            " 26  worst concavity          569 non-null    float64\n",
            " 27  worst concave points     569 non-null    float64\n",
            " 28  worst symmetry           569 non-null    float64\n",
            " 29  worst fractal dimension  569 non-null    float64\n",
            " 30  target                   569 non-null    int64  \n",
            "dtypes: float64(30), int64(1)\n",
            "memory usage: 137.9 KB\n"
          ]
        }
      ]
    },
    {
      "cell_type": "code",
      "source": [
        "print(dataset.target_names)\n",
        "print(cancer_df['target'].value_counts())\n",
        "\n",
        "# p233 1값인 양성 benigh, 0값인 악성 mailgnant\n",
        "# 암진단"
      ],
      "metadata": {
        "colab": {
          "base_uri": "https://localhost:8080/"
        },
        "id": "ym6inIJ-cr3b",
        "outputId": "ff4c0304-8d4b-45e8-9f7d-3154890b16cc"
      },
      "execution_count": null,
      "outputs": [
        {
          "output_type": "stream",
          "name": "stdout",
          "text": [
            "['malignant' 'benign']\n",
            "1    357\n",
            "0    212\n",
            "Name: target, dtype: int64\n"
          ]
        }
      ]
    },
    {
      "cell_type": "markdown",
      "source": [
        "### Step 2. 데이터 분리\n",
        "- 훈련데이터와 테스트 데이터로 분리"
      ],
      "metadata": {
        "id": "mZOL9aD0etwD"
      }
    },
    {
      "cell_type": "code",
      "source": [
        "# 종속변수와 독립변수로 분리\n",
        "X_features = cancer_df.iloc[:, :-1] # 마지막컬럼 제외 후, 나머지 컬럼 가져오기\n",
        "y_label = cancer_df.iloc[:, -1] # 마지막컬럼만 가져오기\n",
        "\n",
        "# X_features.shape, y_label.shape\n",
        "# 전체 데이터 중 80% 학습 데이터, 20% 테스트용 데이터 추출\n",
        "X_train, X_test, y_train, y_test = train_test_split(X_features, y_label, test_size = 0.2, random_state = 1)\n",
        "\n",
        "X_train.shape, X_test.shape, y_train.shape, y_test.shape"
      ],
      "metadata": {
        "colab": {
          "base_uri": "https://localhost:8080/"
        },
        "id": "ElpTwqkeeMaa",
        "outputId": "8e7770e2-7614-4f50-8111-443da27dbfed"
      },
      "execution_count": null,
      "outputs": [
        {
          "output_type": "execute_result",
          "data": {
            "text/plain": [
              "((455, 30), (114, 30), (455,), (114,))"
            ]
          },
          "metadata": {},
          "execution_count": 47
        }
      ]
    },
    {
      "cell_type": "markdown",
      "source": [
        "- (p234) 위에서 만든 X_train, y_train 다시 쪼개서 90%는 학습, 10%는 검증용으로 만듦"
      ],
      "metadata": {
        "id": "q4fYeptef0L9"
      }
    },
    {
      "cell_type": "code",
      "source": [
        "X_tr, X_val, y_tr, y_val = train_test_split(X_train, y_train, test_size = 0.1, random_state = 1)\n",
        "X_tr.shape, X_val.shape, y_tr.shape, y_val.shape"
      ],
      "metadata": {
        "colab": {
          "base_uri": "https://localhost:8080/"
        },
        "id": "lF2cZW3ifOVS",
        "outputId": "3103f0f6-ebda-4de0-a440-04e23cd5582f"
      },
      "execution_count": null,
      "outputs": [
        {
          "output_type": "execute_result",
          "data": {
            "text/plain": [
              "((409, 30), (46, 30), (409,), (46,))"
            ]
          },
          "metadata": {},
          "execution_count": 49
        }
      ]
    },
    {
      "cell_type": "code",
      "source": [
        "X_train.shape, X_tr.shape, X_val.shape, X_test.shape"
      ],
      "metadata": {
        "colab": {
          "base_uri": "https://localhost:8080/"
        },
        "id": "MVLtRuezgWEa",
        "outputId": "c03ada62-2c0c-482f-da08-87008af20548"
      },
      "execution_count": null,
      "outputs": [
        {
          "output_type": "execute_result",
          "data": {
            "text/plain": [
              "((455, 30), (409, 30), (46, 30), (114, 30))"
            ]
          },
          "metadata": {},
          "execution_count": 50
        }
      ]
    },
    {
      "cell_type": "markdown",
      "source": [
        "- X_tr: 훈련 데이터         (교과서 공부 & EBS 내 연습문제)\n",
        "- X_val: 검증 데이터        (중간고사, 기말고사)\n",
        "- X_test: 테스트 데이터     (평가원 모의고사)\n",
        "\n",
        "- 실제 수능 점수\n",
        "- 위 3개 데이터 간의 수치 차이가 클수록 과적합이 일어났다고 볼 수 있다."
      ],
      "metadata": {
        "id": "mmv0SyRzgtHQ"
      }
    },
    {
      "cell_type": "markdown",
      "source": [
        "### Step 3. 데이터 변환 (XGBoost 객체)"
      ],
      "metadata": {
        "id": "PTrMdRcrhiJr"
      }
    },
    {
      "cell_type": "code",
      "source": [
        "# p234 핵심코드!\n",
        "dtr = xgb.DMatrix(data = X_tr, label = y_tr)\n",
        "dval = xgb.DMatrix(data = X_val, label = y_val)\n",
        "dtest = xgb.DMatrix(data = X_test, label = y_test)"
      ],
      "metadata": {
        "id": "pucpREBwgmq9"
      },
      "execution_count": null,
      "outputs": []
    },
    {
      "cell_type": "markdown",
      "source": [
        "### Step 4. 모델링"
      ],
      "metadata": {
        "id": "4ANZF2N7iMr4"
      }
    },
    {
      "cell_type": "code",
      "source": [
        "# p235\n",
        "params = {\n",
        "    'max_depth': 3,\n",
        "    'eta': 0.05,\n",
        "    'objective': 'binary:logistic',\n",
        "    'eval_metric': 'logloss' # 오차\n",
        "}\n",
        "\n",
        "num_rounds = 300\n",
        "\n",
        "# p236\n",
        "# 훈련 / 검증 데이터셋\n",
        "eval_list = [(dtr, 'train'), (dval, 'eval')]\n",
        "\n",
        "xgb_model = xgb.train(params = params, dtrain = dtr, num_boost_round = num_rounds\n",
        "                      , early_stopping_rounds = 50, evals = eval_list)\n"
      ],
      "metadata": {
        "colab": {
          "base_uri": "https://localhost:8080/"
        },
        "id": "DaRnGVwniIwN",
        "outputId": "7b437a60-7c54-4003-905e-967f117bd138"
      },
      "execution_count": null,
      "outputs": [
        {
          "output_type": "stream",
          "name": "stdout",
          "text": [
            "[0]\ttrain-logloss:0.65060\teval-logloss:0.65488\n",
            "[1]\ttrain-logloss:0.61195\teval-logloss:0.61727\n",
            "[2]\ttrain-logloss:0.57647\teval-logloss:0.58425\n",
            "[3]\ttrain-logloss:0.54399\teval-logloss:0.55342\n",
            "[4]\ttrain-logloss:0.51417\teval-logloss:0.52597\n",
            "[5]\ttrain-logloss:0.48661\teval-logloss:0.50133\n",
            "[6]\ttrain-logloss:0.46041\teval-logloss:0.47752\n",
            "[7]\ttrain-logloss:0.43681\teval-logloss:0.45606\n",
            "[8]\ttrain-logloss:0.41434\teval-logloss:0.43484\n",
            "[9]\ttrain-logloss:0.39337\teval-logloss:0.41629\n",
            "[10]\ttrain-logloss:0.37397\teval-logloss:0.39810\n",
            "[11]\ttrain-logloss:0.35621\teval-logloss:0.38231\n",
            "[12]\ttrain-logloss:0.33916\teval-logloss:0.36739\n",
            "[13]\ttrain-logloss:0.32324\teval-logloss:0.35426\n",
            "[14]\ttrain-logloss:0.30900\teval-logloss:0.34087\n",
            "[15]\ttrain-logloss:0.29508\teval-logloss:0.32830\n",
            "[16]\ttrain-logloss:0.28240\teval-logloss:0.31661\n",
            "[17]\ttrain-logloss:0.27000\teval-logloss:0.30643\n",
            "[18]\ttrain-logloss:0.25844\teval-logloss:0.29616\n",
            "[19]\ttrain-logloss:0.24800\teval-logloss:0.28604\n",
            "[20]\ttrain-logloss:0.23684\teval-logloss:0.27797\n",
            "[21]\ttrain-logloss:0.22712\teval-logloss:0.27135\n",
            "[22]\ttrain-logloss:0.21801\teval-logloss:0.26313\n",
            "[23]\ttrain-logloss:0.20861\teval-logloss:0.25638\n",
            "[24]\ttrain-logloss:0.19975\teval-logloss:0.24913\n",
            "[25]\ttrain-logloss:0.19221\teval-logloss:0.24302\n",
            "[26]\ttrain-logloss:0.18426\teval-logloss:0.23659\n",
            "[27]\ttrain-logloss:0.17704\teval-logloss:0.23092\n",
            "[28]\ttrain-logloss:0.16993\teval-logloss:0.22541\n",
            "[29]\ttrain-logloss:0.16323\teval-logloss:0.21770\n",
            "[30]\ttrain-logloss:0.15685\teval-logloss:0.21363\n",
            "[31]\ttrain-logloss:0.15084\teval-logloss:0.20611\n",
            "[32]\ttrain-logloss:0.14520\teval-logloss:0.20371\n",
            "[33]\ttrain-logloss:0.13952\teval-logloss:0.19921\n",
            "[34]\ttrain-logloss:0.13451\teval-logloss:0.19522\n",
            "[35]\ttrain-logloss:0.12939\teval-logloss:0.19123\n",
            "[36]\ttrain-logloss:0.12478\teval-logloss:0.18971\n",
            "[37]\ttrain-logloss:0.12021\teval-logloss:0.18620\n",
            "[38]\ttrain-logloss:0.11588\teval-logloss:0.18294\n",
            "[39]\ttrain-logloss:0.11193\teval-logloss:0.17889\n",
            "[40]\ttrain-logloss:0.10813\teval-logloss:0.17805\n",
            "[41]\ttrain-logloss:0.10438\teval-logloss:0.17533\n",
            "[42]\ttrain-logloss:0.10101\teval-logloss:0.17151\n",
            "[43]\ttrain-logloss:0.09761\teval-logloss:0.16911\n",
            "[44]\ttrain-logloss:0.09437\teval-logloss:0.16595\n",
            "[45]\ttrain-logloss:0.09134\teval-logloss:0.16572\n",
            "[46]\ttrain-logloss:0.08838\teval-logloss:0.16246\n",
            "[47]\ttrain-logloss:0.08560\teval-logloss:0.15827\n",
            "[48]\ttrain-logloss:0.08292\teval-logloss:0.15537\n",
            "[49]\ttrain-logloss:0.08058\teval-logloss:0.15343\n",
            "[50]\ttrain-logloss:0.07792\teval-logloss:0.15042\n",
            "[51]\ttrain-logloss:0.07554\teval-logloss:0.14900\n",
            "[52]\ttrain-logloss:0.07324\teval-logloss:0.14593\n",
            "[53]\ttrain-logloss:0.07115\teval-logloss:0.14579\n",
            "[54]\ttrain-logloss:0.06908\teval-logloss:0.14358\n",
            "[55]\ttrain-logloss:0.06706\teval-logloss:0.14078\n",
            "[56]\ttrain-logloss:0.06510\teval-logloss:0.13807\n",
            "[57]\ttrain-logloss:0.06321\teval-logloss:0.13717\n",
            "[58]\ttrain-logloss:0.06129\teval-logloss:0.13545\n",
            "[59]\ttrain-logloss:0.05981\teval-logloss:0.13272\n",
            "[60]\ttrain-logloss:0.05818\teval-logloss:0.13035\n",
            "[61]\ttrain-logloss:0.05668\teval-logloss:0.13060\n",
            "[62]\ttrain-logloss:0.05525\teval-logloss:0.12916\n",
            "[63]\ttrain-logloss:0.05400\teval-logloss:0.12812\n",
            "[64]\ttrain-logloss:0.05270\teval-logloss:0.12684\n",
            "[65]\ttrain-logloss:0.05135\teval-logloss:0.12462\n",
            "[66]\ttrain-logloss:0.05019\teval-logloss:0.12328\n",
            "[67]\ttrain-logloss:0.04911\teval-logloss:0.12106\n",
            "[68]\ttrain-logloss:0.04778\teval-logloss:0.11990\n",
            "[69]\ttrain-logloss:0.04667\teval-logloss:0.11792\n",
            "[70]\ttrain-logloss:0.04568\teval-logloss:0.11840\n",
            "[71]\ttrain-logloss:0.04476\teval-logloss:0.11643\n",
            "[72]\ttrain-logloss:0.04380\teval-logloss:0.11495\n",
            "[73]\ttrain-logloss:0.04285\teval-logloss:0.11398\n",
            "[74]\ttrain-logloss:0.04195\teval-logloss:0.11253\n",
            "[75]\ttrain-logloss:0.04107\teval-logloss:0.11311\n",
            "[76]\ttrain-logloss:0.04016\teval-logloss:0.11198\n",
            "[77]\ttrain-logloss:0.03935\teval-logloss:0.11264\n",
            "[78]\ttrain-logloss:0.03851\teval-logloss:0.11159\n",
            "[79]\ttrain-logloss:0.03778\teval-logloss:0.11191\n",
            "[80]\ttrain-logloss:0.03707\teval-logloss:0.11071\n",
            "[81]\ttrain-logloss:0.03639\teval-logloss:0.10984\n",
            "[82]\ttrain-logloss:0.03571\teval-logloss:0.11001\n",
            "[83]\ttrain-logloss:0.03505\teval-logloss:0.11078\n",
            "[84]\ttrain-logloss:0.03436\teval-logloss:0.10983\n",
            "[85]\ttrain-logloss:0.03377\teval-logloss:0.10964\n",
            "[86]\ttrain-logloss:0.03317\teval-logloss:0.11041\n",
            "[87]\ttrain-logloss:0.03254\teval-logloss:0.10953\n",
            "[88]\ttrain-logloss:0.03201\teval-logloss:0.10907\n",
            "[89]\ttrain-logloss:0.03149\teval-logloss:0.10828\n",
            "[90]\ttrain-logloss:0.03097\teval-logloss:0.10701\n",
            "[91]\ttrain-logloss:0.03045\teval-logloss:0.10781\n",
            "[92]\ttrain-logloss:0.02993\teval-logloss:0.10748\n",
            "[93]\ttrain-logloss:0.02941\teval-logloss:0.10673\n",
            "[94]\ttrain-logloss:0.02894\teval-logloss:0.10757\n",
            "[95]\ttrain-logloss:0.02845\teval-logloss:0.10692\n",
            "[96]\ttrain-logloss:0.02807\teval-logloss:0.10630\n",
            "[97]\ttrain-logloss:0.02765\teval-logloss:0.10624\n",
            "[98]\ttrain-logloss:0.02723\teval-logloss:0.10512\n",
            "[99]\ttrain-logloss:0.02682\teval-logloss:0.10596\n",
            "[100]\ttrain-logloss:0.02641\teval-logloss:0.10527\n",
            "[101]\ttrain-logloss:0.02603\teval-logloss:0.10526\n",
            "[102]\ttrain-logloss:0.02564\teval-logloss:0.10462\n",
            "[103]\ttrain-logloss:0.02527\teval-logloss:0.10547\n",
            "[104]\ttrain-logloss:0.02487\teval-logloss:0.10479\n",
            "[105]\ttrain-logloss:0.02450\teval-logloss:0.10374\n",
            "[106]\ttrain-logloss:0.02412\teval-logloss:0.10312\n",
            "[107]\ttrain-logloss:0.02382\teval-logloss:0.10166\n",
            "[108]\ttrain-logloss:0.02349\teval-logloss:0.10250\n",
            "[109]\ttrain-logloss:0.02317\teval-logloss:0.10257\n",
            "[110]\ttrain-logloss:0.02283\teval-logloss:0.10176\n",
            "[111]\ttrain-logloss:0.02253\teval-logloss:0.10259\n",
            "[112]\ttrain-logloss:0.02224\teval-logloss:0.10216\n",
            "[113]\ttrain-logloss:0.02196\teval-logloss:0.10125\n",
            "[114]\ttrain-logloss:0.02168\teval-logloss:0.10136\n",
            "[115]\ttrain-logloss:0.02144\teval-logloss:0.10061\n",
            "[116]\ttrain-logloss:0.02118\teval-logloss:0.10043\n",
            "[117]\ttrain-logloss:0.02093\teval-logloss:0.09996\n",
            "[118]\ttrain-logloss:0.02062\teval-logloss:0.10087\n",
            "[119]\ttrain-logloss:0.02036\teval-logloss:0.10004\n",
            "[120]\ttrain-logloss:0.02011\teval-logloss:0.10019\n",
            "[121]\ttrain-logloss:0.01991\teval-logloss:0.09945\n",
            "[122]\ttrain-logloss:0.01969\teval-logloss:0.09900\n",
            "[123]\ttrain-logloss:0.01948\teval-logloss:0.09841\n",
            "[124]\ttrain-logloss:0.01925\teval-logloss:0.09811\n",
            "[125]\ttrain-logloss:0.01902\teval-logloss:0.09861\n",
            "[126]\ttrain-logloss:0.01883\teval-logloss:0.09781\n",
            "[127]\ttrain-logloss:0.01865\teval-logloss:0.09769\n",
            "[128]\ttrain-logloss:0.01848\teval-logloss:0.09726\n",
            "[129]\ttrain-logloss:0.01833\teval-logloss:0.09723\n",
            "[130]\ttrain-logloss:0.01813\teval-logloss:0.09708\n",
            "[131]\ttrain-logloss:0.01796\teval-logloss:0.09632\n",
            "[132]\ttrain-logloss:0.01776\teval-logloss:0.09650\n",
            "[133]\ttrain-logloss:0.01753\teval-logloss:0.09621\n",
            "[134]\ttrain-logloss:0.01737\teval-logloss:0.09626\n",
            "[135]\ttrain-logloss:0.01722\teval-logloss:0.09516\n",
            "[136]\ttrain-logloss:0.01706\teval-logloss:0.09447\n",
            "[137]\ttrain-logloss:0.01689\teval-logloss:0.09434\n",
            "[138]\ttrain-logloss:0.01674\teval-logloss:0.09328\n",
            "[139]\ttrain-logloss:0.01656\teval-logloss:0.09406\n",
            "[140]\ttrain-logloss:0.01639\teval-logloss:0.09398\n",
            "[141]\ttrain-logloss:0.01624\teval-logloss:0.09392\n",
            "[142]\ttrain-logloss:0.01609\teval-logloss:0.09381\n",
            "[143]\ttrain-logloss:0.01597\teval-logloss:0.09358\n",
            "[144]\ttrain-logloss:0.01587\teval-logloss:0.09386\n",
            "[145]\ttrain-logloss:0.01575\teval-logloss:0.09312\n",
            "[146]\ttrain-logloss:0.01563\teval-logloss:0.09356\n",
            "[147]\ttrain-logloss:0.01551\teval-logloss:0.09318\n",
            "[148]\ttrain-logloss:0.01539\teval-logloss:0.09259\n",
            "[149]\ttrain-logloss:0.01527\teval-logloss:0.09162\n",
            "[150]\ttrain-logloss:0.01517\teval-logloss:0.09189\n",
            "[151]\ttrain-logloss:0.01505\teval-logloss:0.09160\n",
            "[152]\ttrain-logloss:0.01492\teval-logloss:0.09101\n",
            "[153]\ttrain-logloss:0.01482\teval-logloss:0.09077\n",
            "[154]\ttrain-logloss:0.01471\teval-logloss:0.09133\n",
            "[155]\ttrain-logloss:0.01461\teval-logloss:0.09066\n",
            "[156]\ttrain-logloss:0.01450\teval-logloss:0.09122\n",
            "[157]\ttrain-logloss:0.01439\teval-logloss:0.09188\n",
            "[158]\ttrain-logloss:0.01430\teval-logloss:0.09123\n",
            "[159]\ttrain-logloss:0.01422\teval-logloss:0.09143\n",
            "[160]\ttrain-logloss:0.01414\teval-logloss:0.09189\n",
            "[161]\ttrain-logloss:0.01406\teval-logloss:0.09178\n",
            "[162]\ttrain-logloss:0.01395\teval-logloss:0.09146\n",
            "[163]\ttrain-logloss:0.01385\teval-logloss:0.09163\n",
            "[164]\ttrain-logloss:0.01376\teval-logloss:0.09189\n",
            "[165]\ttrain-logloss:0.01368\teval-logloss:0.09235\n",
            "[166]\ttrain-logloss:0.01360\teval-logloss:0.09172\n",
            "[167]\ttrain-logloss:0.01353\teval-logloss:0.09161\n",
            "[168]\ttrain-logloss:0.01344\teval-logloss:0.09163\n",
            "[169]\ttrain-logloss:0.01337\teval-logloss:0.09208\n",
            "[170]\ttrain-logloss:0.01329\teval-logloss:0.09147\n",
            "[171]\ttrain-logloss:0.01322\teval-logloss:0.09156\n",
            "[172]\ttrain-logloss:0.01313\teval-logloss:0.09181\n",
            "[173]\ttrain-logloss:0.01306\teval-logloss:0.09225\n",
            "[174]\ttrain-logloss:0.01300\teval-logloss:0.09214\n",
            "[175]\ttrain-logloss:0.01292\teval-logloss:0.09218\n",
            "[176]\ttrain-logloss:0.01285\teval-logloss:0.09262\n",
            "[177]\ttrain-logloss:0.01279\teval-logloss:0.09250\n",
            "[178]\ttrain-logloss:0.01272\teval-logloss:0.09255\n",
            "[179]\ttrain-logloss:0.01265\teval-logloss:0.09268\n",
            "[180]\ttrain-logloss:0.01258\teval-logloss:0.09211\n",
            "[181]\ttrain-logloss:0.01252\teval-logloss:0.09255\n",
            "[182]\ttrain-logloss:0.01246\teval-logloss:0.09189\n",
            "[183]\ttrain-logloss:0.01238\teval-logloss:0.09214\n",
            "[184]\ttrain-logloss:0.01232\teval-logloss:0.09203\n",
            "[185]\ttrain-logloss:0.01226\teval-logloss:0.09245\n",
            "[186]\ttrain-logloss:0.01220\teval-logloss:0.09251\n",
            "[187]\ttrain-logloss:0.01213\teval-logloss:0.09196\n",
            "[188]\ttrain-logloss:0.01205\teval-logloss:0.09172\n",
            "[189]\ttrain-logloss:0.01198\teval-logloss:0.09197\n",
            "[190]\ttrain-logloss:0.01193\teval-logloss:0.09239\n",
            "[191]\ttrain-logloss:0.01188\teval-logloss:0.09228\n",
            "[192]\ttrain-logloss:0.01180\teval-logloss:0.09230\n",
            "[193]\ttrain-logloss:0.01174\teval-logloss:0.09221\n",
            "[194]\ttrain-logloss:0.01169\teval-logloss:0.09262\n",
            "[195]\ttrain-logloss:0.01163\teval-logloss:0.09209\n",
            "[196]\ttrain-logloss:0.01158\teval-logloss:0.09146\n",
            "[197]\ttrain-logloss:0.01152\teval-logloss:0.09167\n",
            "[198]\ttrain-logloss:0.01145\teval-logloss:0.09191\n",
            "[199]\ttrain-logloss:0.01140\teval-logloss:0.09232\n",
            "[200]\ttrain-logloss:0.01136\teval-logloss:0.09220\n",
            "[201]\ttrain-logloss:0.01130\teval-logloss:0.09227\n",
            "[202]\ttrain-logloss:0.01124\teval-logloss:0.09219\n",
            "[203]\ttrain-logloss:0.01120\teval-logloss:0.09151\n",
            "[204]\ttrain-logloss:0.01115\teval-logloss:0.09172\n",
            "[205]\ttrain-logloss:0.01110\teval-logloss:0.09212\n"
          ]
        }
      ]
    },
    {
      "cell_type": "markdown",
      "source": [
        "### Step 5. 예측"
      ],
      "metadata": {
        "id": "zoCTZh3xkDME"
      }
    },
    {
      "cell_type": "code",
      "source": [
        "pred_probs = xgb_model.predict(dtest)\n",
        "print('predict( ) 수행 결과값을 10개만 표시, 예측 확률 값으로 표시됨')\n",
        "print(np.round(pred_probs[:10],3))\n",
        "\n",
        "# 예측 확률이 0.5 보다 크면 1 , 그렇지 않으면 0 으로 예측값 결정하여 List 객체인 preds에 저장\n",
        "preds = [ 1 if x > 0.5 else 0 for x in pred_probs ] # 리스트 컴프리헨\n",
        "print('예측값 10개만 표시:',preds[:10])"
      ],
      "metadata": {
        "colab": {
          "base_uri": "https://localhost:8080/"
        },
        "id": "hPV2k-1MjEvo",
        "outputId": "73ac7a1b-8b99-4336-8d15-a7f330a13f2d"
      },
      "execution_count": null,
      "outputs": [
        {
          "output_type": "stream",
          "name": "stdout",
          "text": [
            "predict( ) 수행 결과값을 10개만 표시, 예측 확률 값으로 표시됨\n",
            "[0.885 0.03  0.998 0.008 0.676 0.001 0.399 0.009 0.995 0.998]\n",
            "예측값 10개만 표시: [1, 0, 1, 0, 1, 0, 0, 0, 1, 1]\n"
          ]
        }
      ]
    },
    {
      "cell_type": "markdown",
      "source": [
        "### Step 6. 평가"
      ],
      "metadata": {
        "id": "jiDhLAcPkG68"
      }
    },
    {
      "cell_type": "code",
      "source": [
        "from sklearn.metrics import confusion_matrix, accuracy_score\n",
        "from sklearn.metrics import precision_score, recall_score\n",
        "from sklearn.metrics import f1_score, roc_auc_score\n",
        "\n",
        "def get_clf_eval(y_test, pred=None, pred_proba=None):\n",
        "    confusion = confusion_matrix( y_test, pred)\n",
        "    accuracy = accuracy_score(y_test , pred)\n",
        "    precision = precision_score(y_test , pred)\n",
        "    recall = recall_score(y_test , pred)\n",
        "    f1 = f1_score(y_test,pred)\n",
        "    # ROC-AUC 추가\n",
        "    roc_auc = roc_auc_score(y_test, pred_proba)\n",
        "    print('오차 행렬')\n",
        "    print(confusion)\n",
        "    # ROC-AUC print 추가\n",
        "    print('정확도: {0:.4f}, 정밀도: {1:.4f}, 재현율: {2:.4f},\\\n",
        "    F1: {3:.4f}, AUC:{4:.4f}'.format(accuracy, precision, recall, f1, roc_auc))\n",
        "\n",
        "# p237\n",
        "get_clf_eval(y_test, preds, pred_probs)"
      ],
      "metadata": {
        "colab": {
          "base_uri": "https://localhost:8080/"
        },
        "id": "ZCF-OE1NkGAW",
        "outputId": "f13b01f7-8822-4d63-dc92-34839bee47a3"
      },
      "execution_count": null,
      "outputs": [
        {
          "output_type": "stream",
          "name": "stdout",
          "text": [
            "오차 행렬\n",
            "[[37  5]\n",
            " [ 0 72]]\n",
            "정확도: 0.9561, 정밀도: 0.9351, 재현율: 1.0000,    F1: 0.9664, AUC:0.9818\n"
          ]
        }
      ]
    },
    {
      "cell_type": "code",
      "source": [
        "import matplotlib.pyplot as plt\n",
        "%matplotlib inline\n",
        "\n",
        "fig, ax = plt.subplots(figsize=(8, 10))\n",
        "plot_importance(xgb_model, ax=ax)"
      ],
      "metadata": {
        "colab": {
          "base_uri": "https://localhost:8080/",
          "height": 887
        },
        "id": "tri8jORXkYU-",
        "outputId": "7c9010bd-ca48-4c07-b86d-68d12f31083c"
      },
      "execution_count": null,
      "outputs": [
        {
          "output_type": "execute_result",
          "data": {
            "text/plain": [
              "<Axes: title={'center': 'Feature importance'}, xlabel='F score', ylabel='Features'>"
            ]
          },
          "metadata": {},
          "execution_count": 59
        },
        {
          "output_type": "display_data",
          "data": {
            "text/plain": [
              "<Figure size 800x1000 with 1 Axes>"
            ],
            "image/png": "[encoded data removed]"
          },
          "metadata": {}
        }
      ]
    },
    {
      "cell_type": "markdown",
      "source": [
        "## LighGBM"
      ],
      "metadata": {
        "id": "0XIgNPxUoOuJ"
      }
    },
    {
      "cell_type": "markdown",
      "source": [
        "### Step 0. 라이브러리 불러오기 & 환경설정"
      ],
      "metadata": {
        "id": "5zTHQPAqoUat"
      }
    },
    {
      "cell_type": "code",
      "source": [
        "# p250\n",
        "from lightgbm import LGBMClassifier\n",
        "import lightgbm as lgb\n",
        "import pandas as pd\n",
        "import numpy as np\n",
        "from sklearn.datasets import load_breast_cancer\n",
        "from sklearn.model_selection import train_test_split\n",
        "import warnings\n",
        "warnings.filterwarnings('ignore')"
      ],
      "metadata": {
        "id": "nCrJXhWpkpV3"
      },
      "execution_count": null,
      "outputs": []
    },
    {
      "cell_type": "markdown",
      "source": [
        "### Step 1. 데이터셋 불러오기"
      ],
      "metadata": {
        "id": "RfJ648pmpSH2"
      }
    },
    {
      "cell_type": "code",
      "source": [
        "dataset = load_breast_cancer()\n",
        "X_features = dataset.data # 독립변수\n",
        "y_label = dataset.target # 종속변수\n",
        "\n",
        "cancer_df = pd.DataFrame(data = X_features, columns = dataset.feature_names) # 독립변수\n",
        "cancer_df['target'] = y_label # 종속변수"
      ],
      "metadata": {
        "id": "ehUIOM65pFC7"
      },
      "execution_count": null,
      "outputs": []
    },
    {
      "cell_type": "markdown",
      "source": [
        "### Step 2. 데이터 분리"
      ],
      "metadata": {
        "id": "jgVUmrPWpdis"
      }
    },
    {
      "cell_type": "code",
      "source": [
        "# 종속변수와 독립변수로 분리\n",
        "X_features = cancer_df.iloc[:, :-1] # 마지막컬럼 제외 후, 나머지 컬럼 가져오기\n",
        "y_label = cancer_df.iloc[:, -1] # 마지막컬럼만 가져오기\n",
        "\n",
        "X_train, X_test, y_train, y_test = train_test_split(X_features, y_label, test_size = 0.2, random_state = 1)\n",
        "X_train.shape, X_test.shape, y_train.shape, y_test.shape\n",
        "\n",
        "X_tr, X_val, y_tr, y_val = train_test_split(X_train, y_train, test_size = 0.1, random_state = 1)\n",
        "X_tr.shape, X_val.shape, y_tr.shape, y_val.shape\n",
        "\n",
        "X_train.shape, X_tr.shape, X_val.shape, X_test.shape"
      ],
      "metadata": {
        "colab": {
          "base_uri": "https://localhost:8080/"
        },
        "id": "_ERlf58Tpcte",
        "outputId": "43cdaff8-3b25-4db8-a2ff-95aeed4ad458"
      },
      "execution_count": null,
      "outputs": [
        {
          "output_type": "execute_result",
          "data": {
            "text/plain": [
              "((455, 30), (409, 30), (46, 30), (114, 30))"
            ]
          },
          "metadata": {},
          "execution_count": 63
        }
      ]
    },
    {
      "cell_type": "markdown",
      "source": [
        "### Step 3. 모델링\n",
        "- 사이킷런 래퍼 형태로 진행\n",
        "- 미니 과제: Python 래퍼 형태로 변경해서 코드를 완성"
      ],
      "metadata": {
        "id": "8uBaSyNzqR6O"
      }
    },
    {
      "cell_type": "code",
      "source": [
        "dtr = lgb.Dataset(data = X_tr, label = y_tr)\n",
        "dval = lgb.Dataset(data = X_val, label = y_val)\n",
        "dtest = lgb.Dataset(data = X_test, label = y_test)"
      ],
      "metadata": {
        "id": "pMbMIKFNtLHj"
      },
      "execution_count": null,
      "outputs": []
    },
    {
      "cell_type": "code",
      "source": [
        "params = {\n",
        "    'max_depth': 3,\n",
        "    'eta': 0.05,\n",
        "    'objective': 'binary:logistic',\n",
        "    'eval_metric': 'logloss' # 오차\n",
        "}\n",
        "\n",
        "num_rounds = 300\n",
        "\n",
        "eval_list = [(dtr, 'train'), (dval, 'eval')]\n",
        "\n",
        "lgb_model = lgb.train(params = params, train_set = dtr, num_boost_round = num_rounds)\n"
      ],
      "metadata": {
        "colab": {
          "base_uri": "https://localhost:8080/",
          "height": 424
        },
        "id": "OBLXV-tGueXC",
        "outputId": "cc136d50-6272-4265-ef0e-59ffbf8277f8"
      },
      "execution_count": null,
      "outputs": [
        {
          "output_type": "stream",
          "name": "stdout",
          "text": [
            "[LightGBM] [Warning] Unknown parameter: eval_metric\n",
            "[LightGBM] [Warning] Found whitespace in feature_names, replace with underlines\n",
            "[LightGBM] [Warning] Unknown parameter: eval_metric\n"
          ]
        },
        {
          "output_type": "error",
          "ename": "LightGBMError",
          "evalue": "ignored",
          "traceback": [
            "\u001b[0;31m---------------------------------------------------------------------------\u001b[0m",
            "\u001b[0;31mLightGBMError\u001b[0m                             Traceback (most recent call last)",
            "\u001b[0;32m<ipython-input-78-c1e544a4dae1>\u001b[0m in \u001b[0;36m<cell line: 12>\u001b[0;34m()\u001b[0m\n\u001b[1;32m     10\u001b[0m \u001b[0meval_list\u001b[0m \u001b[0;34m=\u001b[0m \u001b[0;34m[\u001b[0m\u001b[0;34m(\u001b[0m\u001b[0mdtr\u001b[0m\u001b[0;34m,\u001b[0m \u001b[0;34m'train'\u001b[0m\u001b[0;34m)\u001b[0m\u001b[0;34m,\u001b[0m \u001b[0;34m(\u001b[0m\u001b[0mdval\u001b[0m\u001b[0;34m,\u001b[0m \u001b[0;34m'eval'\u001b[0m\u001b[0;34m)\u001b[0m\u001b[0;34m]\u001b[0m\u001b[0;34m\u001b[0m\u001b[0;34m\u001b[0m\u001b[0m\n\u001b[1;32m     11\u001b[0m \u001b[0;34m\u001b[0m\u001b[0m\n\u001b[0;32m---> 12\u001b[0;31m \u001b[0mlgb_model\u001b[0m \u001b[0;34m=\u001b[0m \u001b[0mlgb\u001b[0m\u001b[0;34m.\u001b[0m\u001b[0mtrain\u001b[0m\u001b[0;34m(\u001b[0m\u001b[0mparams\u001b[0m \u001b[0;34m=\u001b[0m \u001b[0mparams\u001b[0m\u001b[0;34m,\u001b[0m \u001b[0mtrain_set\u001b[0m \u001b[0;34m=\u001b[0m \u001b[0mdtr\u001b[0m\u001b[0;34m,\u001b[0m \u001b[0mnum_boost_round\u001b[0m \u001b[0;34m=\u001b[0m \u001b[0mnum_rounds\u001b[0m\u001b[0;34m)\u001b[0m\u001b[0;34m\u001b[0m\u001b[0;34m\u001b[0m\u001b[0m\n\u001b[0m",
            "\u001b[0;32m/usr/local/lib/python3.10/dist-packages/lightgbm/engine.py\u001b[0m in \u001b[0;36mtrain\u001b[0;34m(params, train_set, num_boost_round, valid_sets, valid_names, fobj, feval, init_model, feature_name, categorical_feature, early_stopping_rounds, evals_result, verbose_eval, learning_rates, keep_training_booster, callbacks)\u001b[0m\n\u001b[1;32m    269\u001b[0m     \u001b[0;31m# construct booster\u001b[0m\u001b[0;34m\u001b[0m\u001b[0;34m\u001b[0m\u001b[0m\n\u001b[1;32m    270\u001b[0m     \u001b[0;32mtry\u001b[0m\u001b[0;34m:\u001b[0m\u001b[0;34m\u001b[0m\u001b[0;34m\u001b[0m\u001b[0m\n\u001b[0;32m--> 271\u001b[0;31m         \u001b[0mbooster\u001b[0m \u001b[0;34m=\u001b[0m \u001b[0mBooster\u001b[0m\u001b[0;34m(\u001b[0m\u001b[0mparams\u001b[0m\u001b[0;34m=\u001b[0m\u001b[0mparams\u001b[0m\u001b[0;34m,\u001b[0m \u001b[0mtrain_set\u001b[0m\u001b[0;34m=\u001b[0m\u001b[0mtrain_set\u001b[0m\u001b[0;34m)\u001b[0m\u001b[0;34m\u001b[0m\u001b[0;34m\u001b[0m\u001b[0m\n\u001b[0m\u001b[1;32m    272\u001b[0m         \u001b[0;32mif\u001b[0m \u001b[0mis_valid_contain_train\u001b[0m\u001b[0;34m:\u001b[0m\u001b[0;34m\u001b[0m\u001b[0;34m\u001b[0m\u001b[0m\n\u001b[1;32m    273\u001b[0m             \u001b[0mbooster\u001b[0m\u001b[0;34m.\u001b[0m\u001b[0mset_train_data_name\u001b[0m\u001b[0;34m(\u001b[0m\u001b[0mtrain_data_name\u001b[0m\u001b[0;34m)\u001b[0m\u001b[0;34m\u001b[0m\u001b[0;34m\u001b[0m\u001b[0m\n",
            "\u001b[0;32m/usr/local/lib/python3.10/dist-packages/lightgbm/basic.py\u001b[0m in \u001b[0;36m__init__\u001b[0;34m(self, params, train_set, model_file, model_str, silent)\u001b[0m\n\u001b[1;32m   2608\u001b[0m             \u001b[0mparams_str\u001b[0m \u001b[0;34m=\u001b[0m \u001b[0mparam_dict_to_str\u001b[0m\u001b[0;34m(\u001b[0m\u001b[0mparams\u001b[0m\u001b[0;34m)\u001b[0m\u001b[0;34m\u001b[0m\u001b[0;34m\u001b[0m\u001b[0m\n\u001b[1;32m   2609\u001b[0m             \u001b[0mself\u001b[0m\u001b[0;34m.\u001b[0m\u001b[0mhandle\u001b[0m \u001b[0;34m=\u001b[0m \u001b[0mctypes\u001b[0m\u001b[0;34m.\u001b[0m\u001b[0mc_void_p\u001b[0m\u001b[0;34m(\u001b[0m\u001b[0;34m)\u001b[0m\u001b[0;34m\u001b[0m\u001b[0;34m\u001b[0m\u001b[0m\n\u001b[0;32m-> 2610\u001b[0;31m             _safe_call(_LIB.LGBM_BoosterCreate(\n\u001b[0m\u001b[1;32m   2611\u001b[0m                 \u001b[0mtrain_set\u001b[0m\u001b[0;34m.\u001b[0m\u001b[0mhandle\u001b[0m\u001b[0;34m,\u001b[0m\u001b[0;34m\u001b[0m\u001b[0;34m\u001b[0m\u001b[0m\n\u001b[1;32m   2612\u001b[0m                 \u001b[0mc_str\u001b[0m\u001b[0;34m(\u001b[0m\u001b[0mparams_str\u001b[0m\u001b[0;34m)\u001b[0m\u001b[0;34m,\u001b[0m\u001b[0;34m\u001b[0m\u001b[0;34m\u001b[0m\u001b[0m\n",
            "\u001b[0;32m/usr/local/lib/python3.10/dist-packages/lightgbm/basic.py\u001b[0m in \u001b[0;36m_safe_call\u001b[0;34m(ret)\u001b[0m\n\u001b[1;32m    123\u001b[0m     \"\"\"\n\u001b[1;32m    124\u001b[0m     \u001b[0;32mif\u001b[0m \u001b[0mret\u001b[0m \u001b[0;34m!=\u001b[0m \u001b[0;36m0\u001b[0m\u001b[0;34m:\u001b[0m\u001b[0;34m\u001b[0m\u001b[0;34m\u001b[0m\u001b[0m\n\u001b[0;32m--> 125\u001b[0;31m         \u001b[0;32mraise\u001b[0m \u001b[0mLightGBMError\u001b[0m\u001b[0;34m(\u001b[0m\u001b[0m_LIB\u001b[0m\u001b[0;34m.\u001b[0m\u001b[0mLGBM_GetLastError\u001b[0m\u001b[0;34m(\u001b[0m\u001b[0;34m)\u001b[0m\u001b[0;34m.\u001b[0m\u001b[0mdecode\u001b[0m\u001b[0;34m(\u001b[0m\u001b[0;34m'utf-8'\u001b[0m\u001b[0;34m)\u001b[0m\u001b[0;34m)\u001b[0m\u001b[0;34m\u001b[0m\u001b[0;34m\u001b[0m\u001b[0m\n\u001b[0m\u001b[1;32m    126\u001b[0m \u001b[0;34m\u001b[0m\u001b[0m\n\u001b[1;32m    127\u001b[0m \u001b[0;34m\u001b[0m\u001b[0m\n",
            "\u001b[0;31mLightGBMError\u001b[0m: Unknown objective type name: binary:logistic"
          ]
        }
      ]
    },
    {
      "cell_type": "code",
      "source": [
        "# p251\n",
        "lgbm_wrapper = LGBMClassifier(n_estimators=400, learning_rate = 0.05)\n",
        "\n",
        "# 조기 중단 수행 가능\n",
        "evals = [(X_tr, y_tr), (X_val, y_val)]\n",
        "lgbm_wrapper.fit(X_tr, y_tr, early_stopping_rounds = 50, eval_metric = 'logloss', eval_set = evals, verbose = True)"
      ],
      "metadata": {
        "colab": {
          "base_uri": "https://localhost:8080/"
        },
        "id": "Qf1UqZJHpyAA",
        "outputId": "d7620e86-32f4-4a41-cb5f-d40b8d163c3c"
      },
      "execution_count": null,
      "outputs": [
        {
          "output_type": "stream",
          "name": "stdout",
          "text": [
            "[1]\ttraining's binary_logloss: 0.624104\tvalid_1's binary_logloss: 0.592866\n",
            "[2]\ttraining's binary_logloss: 0.58771\tvalid_1's binary_logloss: 0.560915\n",
            "[3]\ttraining's binary_logloss: 0.554888\tvalid_1's binary_logloss: 0.53221\n",
            "[4]\ttraining's binary_logloss: 0.524627\tvalid_1's binary_logloss: 0.504594\n",
            "[5]\ttraining's binary_logloss: 0.497213\tvalid_1's binary_logloss: 0.480463\n",
            "[6]\ttraining's binary_logloss: 0.471894\tvalid_1's binary_logloss: 0.456813\n",
            "[7]\ttraining's binary_logloss: 0.44732\tvalid_1's binary_logloss: 0.434369\n",
            "[8]\ttraining's binary_logloss: 0.42595\tvalid_1's binary_logloss: 0.414447\n",
            "[9]\ttraining's binary_logloss: 0.40544\tvalid_1's binary_logloss: 0.397207\n",
            "[10]\ttraining's binary_logloss: 0.385891\tvalid_1's binary_logloss: 0.379056\n",
            "[11]\ttraining's binary_logloss: 0.368685\tvalid_1's binary_logloss: 0.363633\n",
            "[12]\ttraining's binary_logloss: 0.351235\tvalid_1's binary_logloss: 0.348958\n",
            "[13]\ttraining's binary_logloss: 0.335855\tvalid_1's binary_logloss: 0.335922\n",
            "[14]\ttraining's binary_logloss: 0.32064\tvalid_1's binary_logloss: 0.323194\n",
            "[15]\ttraining's binary_logloss: 0.306441\tvalid_1's binary_logloss: 0.310993\n",
            "[16]\ttraining's binary_logloss: 0.293352\tvalid_1's binary_logloss: 0.299791\n",
            "[17]\ttraining's binary_logloss: 0.281519\tvalid_1's binary_logloss: 0.288163\n",
            "[18]\ttraining's binary_logloss: 0.269682\tvalid_1's binary_logloss: 0.27929\n",
            "[19]\ttraining's binary_logloss: 0.257844\tvalid_1's binary_logloss: 0.269969\n",
            "[20]\ttraining's binary_logloss: 0.247424\tvalid_1's binary_logloss: 0.262366\n",
            "[21]\ttraining's binary_logloss: 0.23681\tvalid_1's binary_logloss: 0.254111\n",
            "[22]\ttraining's binary_logloss: 0.227747\tvalid_1's binary_logloss: 0.247095\n",
            "[23]\ttraining's binary_logloss: 0.219252\tvalid_1's binary_logloss: 0.240629\n",
            "[24]\ttraining's binary_logloss: 0.211443\tvalid_1's binary_logloss: 0.23424\n",
            "[25]\ttraining's binary_logloss: 0.203335\tvalid_1's binary_logloss: 0.227839\n",
            "[26]\ttraining's binary_logloss: 0.19576\tvalid_1's binary_logloss: 0.220286\n",
            "[27]\ttraining's binary_logloss: 0.188832\tvalid_1's binary_logloss: 0.211744\n",
            "[28]\ttraining's binary_logloss: 0.182082\tvalid_1's binary_logloss: 0.206955\n",
            "[29]\ttraining's binary_logloss: 0.175251\tvalid_1's binary_logloss: 0.198955\n",
            "[30]\ttraining's binary_logloss: 0.16857\tvalid_1's binary_logloss: 0.192848\n",
            "[31]\ttraining's binary_logloss: 0.163027\tvalid_1's binary_logloss: 0.186197\n",
            "[32]\ttraining's binary_logloss: 0.157185\tvalid_1's binary_logloss: 0.179278\n",
            "[33]\ttraining's binary_logloss: 0.151581\tvalid_1's binary_logloss: 0.177144\n",
            "[34]\ttraining's binary_logloss: 0.145522\tvalid_1's binary_logloss: 0.173679\n",
            "[35]\ttraining's binary_logloss: 0.139897\tvalid_1's binary_logloss: 0.169882\n",
            "[36]\ttraining's binary_logloss: 0.13554\tvalid_1's binary_logloss: 0.164599\n",
            "[37]\ttraining's binary_logloss: 0.131171\tvalid_1's binary_logloss: 0.159325\n",
            "[38]\ttraining's binary_logloss: 0.126445\tvalid_1's binary_logloss: 0.154835\n",
            "[39]\ttraining's binary_logloss: 0.121906\tvalid_1's binary_logloss: 0.15137\n",
            "[40]\ttraining's binary_logloss: 0.118169\tvalid_1's binary_logloss: 0.147713\n",
            "[41]\ttraining's binary_logloss: 0.113819\tvalid_1's binary_logloss: 0.145772\n",
            "[42]\ttraining's binary_logloss: 0.109878\tvalid_1's binary_logloss: 0.142184\n",
            "[43]\ttraining's binary_logloss: 0.106105\tvalid_1's binary_logloss: 0.139528\n",
            "[44]\ttraining's binary_logloss: 0.102761\tvalid_1's binary_logloss: 0.138586\n",
            "[45]\ttraining's binary_logloss: 0.099059\tvalid_1's binary_logloss: 0.135276\n",
            "[46]\ttraining's binary_logloss: 0.0956697\tvalid_1's binary_logloss: 0.134106\n",
            "[47]\ttraining's binary_logloss: 0.0925293\tvalid_1's binary_logloss: 0.131413\n",
            "[48]\ttraining's binary_logloss: 0.0892732\tvalid_1's binary_logloss: 0.130424\n",
            "[49]\ttraining's binary_logloss: 0.0864133\tvalid_1's binary_logloss: 0.127026\n",
            "[50]\ttraining's binary_logloss: 0.0836698\tvalid_1's binary_logloss: 0.124869\n",
            "[51]\ttraining's binary_logloss: 0.0807718\tvalid_1's binary_logloss: 0.123961\n",
            "[52]\ttraining's binary_logloss: 0.0780449\tvalid_1's binary_logloss: 0.123235\n",
            "[53]\ttraining's binary_logloss: 0.0755368\tvalid_1's binary_logloss: 0.119563\n",
            "[54]\ttraining's binary_logloss: 0.0732178\tvalid_1's binary_logloss: 0.116866\n",
            "[55]\ttraining's binary_logloss: 0.0710183\tvalid_1's binary_logloss: 0.115136\n",
            "[56]\ttraining's binary_logloss: 0.0685291\tvalid_1's binary_logloss: 0.113537\n",
            "[57]\ttraining's binary_logloss: 0.0665905\tvalid_1's binary_logloss: 0.110464\n",
            "[58]\ttraining's binary_logloss: 0.0642823\tvalid_1's binary_logloss: 0.109163\n",
            "[59]\ttraining's binary_logloss: 0.0621757\tvalid_1's binary_logloss: 0.106239\n",
            "[60]\ttraining's binary_logloss: 0.0597179\tvalid_1's binary_logloss: 0.105041\n",
            "[61]\ttraining's binary_logloss: 0.0576852\tvalid_1's binary_logloss: 0.103945\n",
            "[62]\ttraining's binary_logloss: 0.0554967\tvalid_1's binary_logloss: 0.100993\n",
            "[63]\ttraining's binary_logloss: 0.0533894\tvalid_1's binary_logloss: 0.100268\n",
            "[64]\ttraining's binary_logloss: 0.0514044\tvalid_1's binary_logloss: 0.0975411\n",
            "[65]\ttraining's binary_logloss: 0.0495119\tvalid_1's binary_logloss: 0.0970358\n",
            "[66]\ttraining's binary_logloss: 0.0476993\tvalid_1's binary_logloss: 0.0941585\n",
            "[67]\ttraining's binary_logloss: 0.0459786\tvalid_1's binary_logloss: 0.093563\n",
            "[68]\ttraining's binary_logloss: 0.044327\tvalid_1's binary_logloss: 0.093032\n",
            "[69]\ttraining's binary_logloss: 0.0428461\tvalid_1's binary_logloss: 0.0905868\n",
            "[70]\ttraining's binary_logloss: 0.041311\tvalid_1's binary_logloss: 0.0908156\n",
            "[71]\ttraining's binary_logloss: 0.0398564\tvalid_1's binary_logloss: 0.0886933\n",
            "[72]\ttraining's binary_logloss: 0.0384622\tvalid_1's binary_logloss: 0.0890376\n",
            "[73]\ttraining's binary_logloss: 0.0370747\tvalid_1's binary_logloss: 0.0885043\n",
            "[74]\ttraining's binary_logloss: 0.0357926\tvalid_1's binary_logloss: 0.0864314\n",
            "[75]\ttraining's binary_logloss: 0.0345244\tvalid_1's binary_logloss: 0.0871744\n",
            "[76]\ttraining's binary_logloss: 0.0333379\tvalid_1's binary_logloss: 0.0859213\n",
            "[77]\ttraining's binary_logloss: 0.0321917\tvalid_1's binary_logloss: 0.0850538\n",
            "[78]\ttraining's binary_logloss: 0.0309948\tvalid_1's binary_logloss: 0.0854337\n",
            "[79]\ttraining's binary_logloss: 0.0299517\tvalid_1's binary_logloss: 0.0833777\n",
            "[80]\ttraining's binary_logloss: 0.0290115\tvalid_1's binary_logloss: 0.083297\n",
            "[81]\ttraining's binary_logloss: 0.0280559\tvalid_1's binary_logloss: 0.0839073\n",
            "[82]\ttraining's binary_logloss: 0.0269565\tvalid_1's binary_logloss: 0.0843407\n",
            "[83]\ttraining's binary_logloss: 0.0260559\tvalid_1's binary_logloss: 0.0825753\n",
            "[84]\ttraining's binary_logloss: 0.0252986\tvalid_1's binary_logloss: 0.0833272\n",
            "[85]\ttraining's binary_logloss: 0.0243975\tvalid_1's binary_logloss: 0.0823079\n",
            "[86]\ttraining's binary_logloss: 0.0237809\tvalid_1's binary_logloss: 0.0832954\n",
            "[87]\ttraining's binary_logloss: 0.0231069\tvalid_1's binary_logloss: 0.08321\n",
            "[88]\ttraining's binary_logloss: 0.0223121\tvalid_1's binary_logloss: 0.0832254\n",
            "[89]\ttraining's binary_logloss: 0.0216893\tvalid_1's binary_logloss: 0.0835684\n",
            "[90]\ttraining's binary_logloss: 0.0209663\tvalid_1's binary_logloss: 0.081979\n",
            "[91]\ttraining's binary_logloss: 0.020259\tvalid_1's binary_logloss: 0.0828586\n",
            "[92]\ttraining's binary_logloss: 0.0193959\tvalid_1's binary_logloss: 0.0815027\n",
            "[93]\ttraining's binary_logloss: 0.0187506\tvalid_1's binary_logloss: 0.0830592\n",
            "[94]\ttraining's binary_logloss: 0.0179521\tvalid_1's binary_logloss: 0.0818027\n",
            "[95]\ttraining's binary_logloss: 0.0173674\tvalid_1's binary_logloss: 0.0833919\n",
            "[96]\ttraining's binary_logloss: 0.0168143\tvalid_1's binary_logloss: 0.0819665\n",
            "[97]\ttraining's binary_logloss: 0.016256\tvalid_1's binary_logloss: 0.0821443\n",
            "[98]\ttraining's binary_logloss: 0.0158152\tvalid_1's binary_logloss: 0.0824822\n",
            "[99]\ttraining's binary_logloss: 0.0152091\tvalid_1's binary_logloss: 0.0825992\n",
            "[100]\ttraining's binary_logloss: 0.0147169\tvalid_1's binary_logloss: 0.0828405\n",
            "[101]\ttraining's binary_logloss: 0.0142458\tvalid_1's binary_logloss: 0.0845281\n",
            "[102]\ttraining's binary_logloss: 0.0137946\tvalid_1's binary_logloss: 0.084692\n",
            "[103]\ttraining's binary_logloss: 0.01328\tvalid_1's binary_logloss: 0.0848686\n",
            "[104]\ttraining's binary_logloss: 0.0128424\tvalid_1's binary_logloss: 0.0859003\n",
            "[105]\ttraining's binary_logloss: 0.0123742\tvalid_1's binary_logloss: 0.0843979\n",
            "[106]\ttraining's binary_logloss: 0.011937\tvalid_1's binary_logloss: 0.0862185\n",
            "[107]\ttraining's binary_logloss: 0.0115103\tvalid_1's binary_logloss: 0.084763\n",
            "[108]\ttraining's binary_logloss: 0.0111075\tvalid_1's binary_logloss: 0.0833549\n",
            "[109]\ttraining's binary_logloss: 0.0107495\tvalid_1's binary_logloss: 0.0845245\n",
            "[110]\ttraining's binary_logloss: 0.010331\tvalid_1's binary_logloss: 0.0836103\n",
            "[111]\ttraining's binary_logloss: 0.0100153\tvalid_1's binary_logloss: 0.0824653\n",
            "[112]\ttraining's binary_logloss: 0.00966402\tvalid_1's binary_logloss: 0.0833473\n",
            "[113]\ttraining's binary_logloss: 0.00929143\tvalid_1's binary_logloss: 0.0847084\n",
            "[114]\ttraining's binary_logloss: 0.00902556\tvalid_1's binary_logloss: 0.0842427\n",
            "[115]\ttraining's binary_logloss: 0.00871648\tvalid_1's binary_logloss: 0.0828745\n",
            "[116]\ttraining's binary_logloss: 0.00836821\tvalid_1's binary_logloss: 0.0839336\n",
            "[117]\ttraining's binary_logloss: 0.00807828\tvalid_1's binary_logloss: 0.0848496\n",
            "[118]\ttraining's binary_logloss: 0.00779835\tvalid_1's binary_logloss: 0.0834501\n",
            "[119]\ttraining's binary_logloss: 0.00757244\tvalid_1's binary_logloss: 0.0839875\n",
            "[120]\ttraining's binary_logloss: 0.00727748\tvalid_1's binary_logloss: 0.0831229\n",
            "[121]\ttraining's binary_logloss: 0.00700181\tvalid_1's binary_logloss: 0.0845447\n",
            "[122]\ttraining's binary_logloss: 0.00677956\tvalid_1's binary_logloss: 0.0850325\n",
            "[123]\ttraining's binary_logloss: 0.00654892\tvalid_1's binary_logloss: 0.0853822\n",
            "[124]\ttraining's binary_logloss: 0.00634218\tvalid_1's binary_logloss: 0.0864915\n",
            "[125]\ttraining's binary_logloss: 0.00616329\tvalid_1's binary_logloss: 0.0872248\n",
            "[126]\ttraining's binary_logloss: 0.00592875\tvalid_1's binary_logloss: 0.0873102\n",
            "[127]\ttraining's binary_logloss: 0.00570234\tvalid_1's binary_logloss: 0.0887505\n",
            "[128]\ttraining's binary_logloss: 0.00548445\tvalid_1's binary_logloss: 0.0873048\n",
            "[129]\ttraining's binary_logloss: 0.00527593\tvalid_1's binary_logloss: 0.0860472\n",
            "[130]\ttraining's binary_logloss: 0.0051114\tvalid_1's binary_logloss: 0.0869477\n",
            "[131]\ttraining's binary_logloss: 0.00493835\tvalid_1's binary_logloss: 0.0857444\n",
            "[132]\ttraining's binary_logloss: 0.00475004\tvalid_1's binary_logloss: 0.0845005\n",
            "[133]\ttraining's binary_logloss: 0.00458057\tvalid_1's binary_logloss: 0.082873\n",
            "[134]\ttraining's binary_logloss: 0.00443738\tvalid_1's binary_logloss: 0.0838228\n",
            "[135]\ttraining's binary_logloss: 0.00426802\tvalid_1's binary_logloss: 0.0830509\n",
            "[136]\ttraining's binary_logloss: 0.00412712\tvalid_1's binary_logloss: 0.0819421\n",
            "[137]\ttraining's binary_logloss: 0.00397754\tvalid_1's binary_logloss: 0.0808513\n",
            "[138]\ttraining's binary_logloss: 0.0038564\tvalid_1's binary_logloss: 0.0819645\n",
            "[139]\ttraining's binary_logloss: 0.00371593\tvalid_1's binary_logloss: 0.0807551\n",
            "[140]\ttraining's binary_logloss: 0.00358074\tvalid_1's binary_logloss: 0.0797241\n",
            "[141]\ttraining's binary_logloss: 0.0034707\tvalid_1's binary_logloss: 0.080725\n",
            "[142]\ttraining's binary_logloss: 0.00337047\tvalid_1's binary_logloss: 0.0804671\n",
            "[143]\ttraining's binary_logloss: 0.00325064\tvalid_1's binary_logloss: 0.0793484\n",
            "[144]\ttraining's binary_logloss: 0.00315426\tvalid_1's binary_logloss: 0.0802295\n",
            "[145]\ttraining's binary_logloss: 0.00305376\tvalid_1's binary_logloss: 0.0811615\n",
            "[146]\ttraining's binary_logloss: 0.0029616\tvalid_1's binary_logloss: 0.0821407\n",
            "[147]\ttraining's binary_logloss: 0.00287015\tvalid_1's binary_logloss: 0.083425\n",
            "[148]\ttraining's binary_logloss: 0.0027677\tvalid_1's binary_logloss: 0.0824469\n",
            "[149]\ttraining's binary_logloss: 0.0026708\tvalid_1's binary_logloss: 0.0815099\n",
            "[150]\ttraining's binary_logloss: 0.0025911\tvalid_1's binary_logloss: 0.0825435\n",
            "[151]\ttraining's binary_logloss: 0.00251069\tvalid_1's binary_logloss: 0.0833618\n",
            "[152]\ttraining's binary_logloss: 0.00241678\tvalid_1's binary_logloss: 0.0827307\n",
            "[153]\ttraining's binary_logloss: 0.00233558\tvalid_1's binary_logloss: 0.0817429\n",
            "[154]\ttraining's binary_logloss: 0.00226669\tvalid_1's binary_logloss: 0.0829913\n",
            "[155]\ttraining's binary_logloss: 0.00219668\tvalid_1's binary_logloss: 0.0838063\n",
            "[156]\ttraining's binary_logloss: 0.00210352\tvalid_1's binary_logloss: 0.082518\n",
            "[157]\ttraining's binary_logloss: 0.00203861\tvalid_1's binary_logloss: 0.0816727\n",
            "[158]\ttraining's binary_logloss: 0.00197338\tvalid_1's binary_logloss: 0.0816995\n",
            "[159]\ttraining's binary_logloss: 0.00191125\tvalid_1's binary_logloss: 0.0824977\n",
            "[160]\ttraining's binary_logloss: 0.00184695\tvalid_1's binary_logloss: 0.0836665\n",
            "[161]\ttraining's binary_logloss: 0.00179036\tvalid_1's binary_logloss: 0.0828145\n",
            "[162]\ttraining's binary_logloss: 0.00173044\tvalid_1's binary_logloss: 0.0840007\n",
            "[163]\ttraining's binary_logloss: 0.00167315\tvalid_1's binary_logloss: 0.0830912\n",
            "[164]\ttraining's binary_logloss: 0.00162433\tvalid_1's binary_logloss: 0.0839944\n",
            "[165]\ttraining's binary_logloss: 0.00157794\tvalid_1's binary_logloss: 0.0849738\n",
            "[166]\ttraining's binary_logloss: 0.00152975\tvalid_1's binary_logloss: 0.0851746\n",
            "[167]\ttraining's binary_logloss: 0.00148492\tvalid_1's binary_logloss: 0.0867037\n",
            "[168]\ttraining's binary_logloss: 0.00143981\tvalid_1's binary_logloss: 0.0868051\n",
            "[169]\ttraining's binary_logloss: 0.00139167\tvalid_1's binary_logloss: 0.0859979\n",
            "[170]\ttraining's binary_logloss: 0.00134288\tvalid_1's binary_logloss: 0.0868977\n",
            "[171]\ttraining's binary_logloss: 0.00130189\tvalid_1's binary_logloss: 0.0882818\n",
            "[172]\ttraining's binary_logloss: 0.00125736\tvalid_1's binary_logloss: 0.0894778\n",
            "[173]\ttraining's binary_logloss: 0.00121603\tvalid_1's binary_logloss: 0.0886814\n",
            "[174]\ttraining's binary_logloss: 0.00117555\tvalid_1's binary_logloss: 0.089931\n",
            "[175]\ttraining's binary_logloss: 0.00113222\tvalid_1's binary_logloss: 0.0898423\n",
            "[176]\ttraining's binary_logloss: 0.00108793\tvalid_1's binary_logloss: 0.0895584\n",
            "[177]\ttraining's binary_logloss: 0.00105152\tvalid_1's binary_logloss: 0.0907989\n",
            "[178]\ttraining's binary_logloss: 0.00101531\tvalid_1's binary_logloss: 0.092219\n",
            "[179]\ttraining's binary_logloss: 0.000986506\tvalid_1's binary_logloss: 0.0914862\n",
            "[180]\ttraining's binary_logloss: 0.000958097\tvalid_1's binary_logloss: 0.0901261\n",
            "[181]\ttraining's binary_logloss: 0.000919586\tvalid_1's binary_logloss: 0.0906131\n",
            "[182]\ttraining's binary_logloss: 0.000881576\tvalid_1's binary_logloss: 0.0895705\n",
            "[183]\ttraining's binary_logloss: 0.000852557\tvalid_1's binary_logloss: 0.0908283\n",
            "[184]\ttraining's binary_logloss: 0.000818837\tvalid_1's binary_logloss: 0.091432\n",
            "[185]\ttraining's binary_logloss: 0.000788654\tvalid_1's binary_logloss: 0.0904639\n",
            "[186]\ttraining's binary_logloss: 0.000760594\tvalid_1's binary_logloss: 0.0915451\n",
            "[187]\ttraining's binary_logloss: 0.000728492\tvalid_1's binary_logloss: 0.0901133\n",
            "[188]\ttraining's binary_logloss: 0.00070002\tvalid_1's binary_logloss: 0.0906619\n",
            "[189]\ttraining's binary_logloss: 0.000677597\tvalid_1's binary_logloss: 0.0913198\n",
            "[190]\ttraining's binary_logloss: 0.000651513\tvalid_1's binary_logloss: 0.0909924\n",
            "[191]\ttraining's binary_logloss: 0.000632394\tvalid_1's binary_logloss: 0.0899084\n",
            "[192]\ttraining's binary_logloss: 0.000612247\tvalid_1's binary_logloss: 0.0891454\n",
            "[193]\ttraining's binary_logloss: 0.000591481\tvalid_1's binary_logloss: 0.0904298\n"
          ]
        }
      ]
    },
    {
      "cell_type": "code",
      "source": [
        "preds = lgbm_wrapper.predict(X_test)\n",
        "pred_proba = lgbm_wrapper.predict_proba(X_test)[:, 1]"
      ],
      "metadata": {
        "id": "Gl0nUMvGroW5"
      },
      "execution_count": null,
      "outputs": []
    },
    {
      "cell_type": "code",
      "source": [
        "# p237\n",
        "get_clf_eval(y_test, preds, pred_proba)"
      ],
      "metadata": {
        "colab": {
          "base_uri": "https://localhost:8080/"
        },
        "id": "oxv5kCVerv3t",
        "outputId": "c8fdf8da-dd5a-4262-c9b1-29d9e81ed6d7"
      },
      "execution_count": null,
      "outputs": [
        {
          "output_type": "stream",
          "name": "stdout",
          "text": [
            "오차 행렬\n",
            "[[37  5]\n",
            " [ 1 71]]\n",
            "정확도: 0.9474, 정밀도: 0.9342, 재현율: 0.9861,    F1: 0.9595, AUC:0.9861\n"
          ]
        }
      ]
    },
    {
      "cell_type": "code",
      "source": [
        "from lightgbm import plot_importance\n",
        "import matplotlib.pyplot as plt\n",
        "%matplotlib inline\n",
        "\n",
        "fig, ax = plt.subplots(figsize=(8, 10))\n",
        "plot_importance(lgbm_wrapper, ax=ax)"
      ],
      "metadata": {
        "colab": {
          "base_uri": "https://localhost:8080/",
          "height": 887
        },
        "id": "8SH7l2IBr8lE",
        "outputId": "82cf8bbd-c548-4e0b-ba3d-3d580d6eb582"
      },
      "execution_count": null,
      "outputs": [
        {
          "output_type": "execute_result",
          "data": {
            "text/plain": [
              "<Axes: title={'center': 'Feature importance'}, xlabel='Feature importance', ylabel='Features'>"
            ]
          },
          "metadata": {},
          "execution_count": 68
        },
        {
          "output_type": "display_data",
          "data": {
            "text/plain": [
              "<Figure size 800x1000 with 1 Axes>"
            ],
            "image/png": "[encoded data removed]"
          },
          "metadata": {}
        }
      ]
    },
    {
      "cell_type": "code",
      "source": [],
      "metadata": {
        "id": "zDlQbaBRsQ6o"
      },
      "execution_count": null,
      "outputs": []
    }
  ]
}